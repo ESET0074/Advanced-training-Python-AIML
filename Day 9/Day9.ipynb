{
 "cells": [
  {
   "cell_type": "code",
   "execution_count": 41,
   "id": "e503a4b6-a9f8-48fb-8955-0a95a859f2e0",
   "metadata": {},
   "outputs": [],
   "source": [
    "import pandas as pd\n",
    "import numpy as np\n",
    "import matplotlib.pyplot as plt\n",
    "import seaborn as sns\n",
    "import json"
   ]
  },
  {
   "cell_type": "code",
   "execution_count": 43,
   "id": "d9f06999-678d-41c4-92e8-63ee410e8b8e",
   "metadata": {},
   "outputs": [],
   "source": [
    "with open(\"C:\\\\Users\\\\user\\\\Downloads\\\\abcd.json\") as f:\n",
    "    data=json.load(f)"
   ]
  },
  {
   "cell_type": "code",
   "execution_count": 6,
   "id": "743c27db-64bb-4184-8191-7a43c8451c3d",
   "metadata": {},
   "outputs": [],
   "source": [
    "df=pd.read_json(\"C:\\\\Users\\\\user\\\\Downloads\\\\abcd.json\")"
   ]
  },
  {
   "cell_type": "code",
   "execution_count": 7,
   "id": "dc683e96-e53a-48ba-a916-205a49d9a2d6",
   "metadata": {},
   "outputs": [
    {
     "data": {
      "text/html": [
       "<div>\n",
       "<style scoped>\n",
       "    .dataframe tbody tr th:only-of-type {\n",
       "        vertical-align: middle;\n",
       "    }\n",
       "\n",
       "    .dataframe tbody tr th {\n",
       "        vertical-align: top;\n",
       "    }\n",
       "\n",
       "    .dataframe thead th {\n",
       "        text-align: right;\n",
       "    }\n",
       "</style>\n",
       "<table border=\"1\" class=\"dataframe\">\n",
       "  <thead>\n",
       "    <tr style=\"text-align: right;\">\n",
       "      <th></th>\n",
       "      <th>productId</th>\n",
       "      <th>productName</th>\n",
       "      <th>description</th>\n",
       "      <th>brand</th>\n",
       "      <th>category</th>\n",
       "      <th>price</th>\n",
       "      <th>currency</th>\n",
       "      <th>stock</th>\n",
       "      <th>images</th>\n",
       "      <th>variants</th>\n",
       "      <th>dimensions</th>\n",
       "      <th>ratings</th>\n",
       "      <th>reviews</th>\n",
       "    </tr>\n",
       "  </thead>\n",
       "  <tbody>\n",
       "    <tr>\n",
       "      <th>0</th>\n",
       "      <td>1001</td>\n",
       "      <td>Wireless Headphones</td>\n",
       "      <td>Noise-cancelling wireless headphones with Blue...</td>\n",
       "      <td>SoundPro</td>\n",
       "      <td>Electronics</td>\n",
       "      <td>199.99</td>\n",
       "      <td>USD</td>\n",
       "      <td>{'available': True, 'quantity': 50}</td>\n",
       "      <td>[https://example.com/products/1001/main.jpg, h...</td>\n",
       "      <td>[{'variantId': '1001_01', 'color': 'Black', 'p...</td>\n",
       "      <td>{'weight': '0.5kg', 'width': '18cm', 'height':...</td>\n",
       "      <td>{'averageRating': 4.7, 'numberOfReviews': 120}</td>\n",
       "      <td>[{'reviewId': 501, 'userId': 101, 'username': ...</td>\n",
       "    </tr>\n",
       "    <tr>\n",
       "      <th>1</th>\n",
       "      <td>1002</td>\n",
       "      <td>Smartphone Case</td>\n",
       "      <td>Durable and shockproof case for smartphones, a...</td>\n",
       "      <td>CaseMate</td>\n",
       "      <td>Accessories</td>\n",
       "      <td>29.99</td>\n",
       "      <td>USD</td>\n",
       "      <td>{'available': True, 'quantity': 200}</td>\n",
       "      <td>[https://example.com/products/1002/main.jpg, h...</td>\n",
       "      <td>[{'variantId': '1002_01', 'color': 'Black', 'p...</td>\n",
       "      <td>{'weight': '0.2kg', 'width': '8cm', 'height': ...</td>\n",
       "      <td>{'averageRating': 4.4, 'numberOfReviews': 80}</td>\n",
       "      <td>[{'reviewId': 601, 'userId': 103, 'username': ...</td>\n",
       "    </tr>\n",
       "    <tr>\n",
       "      <th>2</th>\n",
       "      <td>1003</td>\n",
       "      <td>4K Ultra HD Smart TV</td>\n",
       "      <td>55-inch 4K Ultra HD Smart TV with built-in Wi-...</td>\n",
       "      <td>Visionary</td>\n",
       "      <td>Electronics</td>\n",
       "      <td>799.99</td>\n",
       "      <td>USD</td>\n",
       "      <td>{'available': True, 'quantity': 30}</td>\n",
       "      <td>[https://example.com/products/1003/main.jpg, h...</td>\n",
       "      <td>[{'variantId': '1003_01', 'screenSize': '55 in...</td>\n",
       "      <td>{'weight': '15kg', 'width': '123cm', 'height':...</td>\n",
       "      <td>{'averageRating': 4.8, 'numberOfReviews': 250}</td>\n",
       "      <td>[{'reviewId': 701, 'userId': 105, 'username': ...</td>\n",
       "    </tr>\n",
       "    <tr>\n",
       "      <th>3</th>\n",
       "      <td>1004</td>\n",
       "      <td>Bluetooth Speaker</td>\n",
       "      <td>Portable Bluetooth speaker with 12-hour batter...</td>\n",
       "      <td>AudioX</td>\n",
       "      <td>Electronics</td>\n",
       "      <td>59.99</td>\n",
       "      <td>USD</td>\n",
       "      <td>{'available': True, 'quantity': 100}</td>\n",
       "      <td>[https://example.com/products/1004/main.jpg, h...</td>\n",
       "      <td>[{'variantId': '1004_01', 'color': 'Red', 'pri...</td>\n",
       "      <td>{'weight': '0.3kg', 'width': '15cm', 'height':...</td>\n",
       "      <td>{'averageRating': 4.6, 'numberOfReviews': 150}</td>\n",
       "      <td>[{'reviewId': 801, 'userId': 107, 'username': ...</td>\n",
       "    </tr>\n",
       "    <tr>\n",
       "      <th>4</th>\n",
       "      <td>1005</td>\n",
       "      <td>Winter Jacket</td>\n",
       "      <td>Men's water-resistant winter jacket with a fur...</td>\n",
       "      <td>ColdTech</td>\n",
       "      <td>Clothing</td>\n",
       "      <td>129.99</td>\n",
       "      <td>USD</td>\n",
       "      <td>{'available': True, 'quantity': 80}</td>\n",
       "      <td>[https://example.com/products/1005/main.jpg, h...</td>\n",
       "      <td>[{'variantId': '1005_01', 'size': 'M', 'color'...</td>\n",
       "      <td>{'weight': '1.5kg', 'width': '60cm', 'height':...</td>\n",
       "      <td>{'averageRating': 4.5, 'numberOfReviews': 60}</td>\n",
       "      <td>[{'reviewId': 901, 'userId': 109, 'username': ...</td>\n",
       "    </tr>\n",
       "  </tbody>\n",
       "</table>\n",
       "</div>"
      ],
      "text/plain": [
       "   productId           productName  \\\n",
       "0       1001   Wireless Headphones   \n",
       "1       1002       Smartphone Case   \n",
       "2       1003  4K Ultra HD Smart TV   \n",
       "3       1004     Bluetooth Speaker   \n",
       "4       1005         Winter Jacket   \n",
       "\n",
       "                                         description      brand     category  \\\n",
       "0  Noise-cancelling wireless headphones with Blue...   SoundPro  Electronics   \n",
       "1  Durable and shockproof case for smartphones, a...   CaseMate  Accessories   \n",
       "2  55-inch 4K Ultra HD Smart TV with built-in Wi-...  Visionary  Electronics   \n",
       "3  Portable Bluetooth speaker with 12-hour batter...     AudioX  Electronics   \n",
       "4  Men's water-resistant winter jacket with a fur...   ColdTech     Clothing   \n",
       "\n",
       "    price currency                                 stock  \\\n",
       "0  199.99      USD   {'available': True, 'quantity': 50}   \n",
       "1   29.99      USD  {'available': True, 'quantity': 200}   \n",
       "2  799.99      USD   {'available': True, 'quantity': 30}   \n",
       "3   59.99      USD  {'available': True, 'quantity': 100}   \n",
       "4  129.99      USD   {'available': True, 'quantity': 80}   \n",
       "\n",
       "                                              images  \\\n",
       "0  [https://example.com/products/1001/main.jpg, h...   \n",
       "1  [https://example.com/products/1002/main.jpg, h...   \n",
       "2  [https://example.com/products/1003/main.jpg, h...   \n",
       "3  [https://example.com/products/1004/main.jpg, h...   \n",
       "4  [https://example.com/products/1005/main.jpg, h...   \n",
       "\n",
       "                                            variants  \\\n",
       "0  [{'variantId': '1001_01', 'color': 'Black', 'p...   \n",
       "1  [{'variantId': '1002_01', 'color': 'Black', 'p...   \n",
       "2  [{'variantId': '1003_01', 'screenSize': '55 in...   \n",
       "3  [{'variantId': '1004_01', 'color': 'Red', 'pri...   \n",
       "4  [{'variantId': '1005_01', 'size': 'M', 'color'...   \n",
       "\n",
       "                                          dimensions  \\\n",
       "0  {'weight': '0.5kg', 'width': '18cm', 'height':...   \n",
       "1  {'weight': '0.2kg', 'width': '8cm', 'height': ...   \n",
       "2  {'weight': '15kg', 'width': '123cm', 'height':...   \n",
       "3  {'weight': '0.3kg', 'width': '15cm', 'height':...   \n",
       "4  {'weight': '1.5kg', 'width': '60cm', 'height':...   \n",
       "\n",
       "                                          ratings  \\\n",
       "0  {'averageRating': 4.7, 'numberOfReviews': 120}   \n",
       "1   {'averageRating': 4.4, 'numberOfReviews': 80}   \n",
       "2  {'averageRating': 4.8, 'numberOfReviews': 250}   \n",
       "3  {'averageRating': 4.6, 'numberOfReviews': 150}   \n",
       "4   {'averageRating': 4.5, 'numberOfReviews': 60}   \n",
       "\n",
       "                                             reviews  \n",
       "0  [{'reviewId': 501, 'userId': 101, 'username': ...  \n",
       "1  [{'reviewId': 601, 'userId': 103, 'username': ...  \n",
       "2  [{'reviewId': 701, 'userId': 105, 'username': ...  \n",
       "3  [{'reviewId': 801, 'userId': 107, 'username': ...  \n",
       "4  [{'reviewId': 901, 'userId': 109, 'username': ...  "
      ]
     },
     "execution_count": 7,
     "metadata": {},
     "output_type": "execute_result"
    }
   ],
   "source": [
    "df.head()"
   ]
  },
  {
   "cell_type": "code",
   "execution_count": 8,
   "id": "41c0b360-287e-4224-ba57-11d35c237c56",
   "metadata": {},
   "outputs": [
    {
     "data": {
      "text/plain": [
       "(5, 13)"
      ]
     },
     "execution_count": 8,
     "metadata": {},
     "output_type": "execute_result"
    }
   ],
   "source": [
    "df.shape"
   ]
  },
  {
   "cell_type": "code",
   "execution_count": 9,
   "id": "8d682d8f-bcfa-4e54-b4dd-960bb1b2169b",
   "metadata": {},
   "outputs": [
    {
     "data": {
      "text/plain": [
       "productId      0\n",
       "productName    0\n",
       "description    0\n",
       "brand          0\n",
       "category       0\n",
       "price          0\n",
       "currency       0\n",
       "stock          0\n",
       "images         0\n",
       "variants       0\n",
       "dimensions     0\n",
       "ratings        0\n",
       "reviews        0\n",
       "dtype: int64"
      ]
     },
     "execution_count": 9,
     "metadata": {},
     "output_type": "execute_result"
    }
   ],
   "source": [
    "df.isnull().sum()"
   ]
  },
  {
   "cell_type": "code",
   "execution_count": 10,
   "id": "70693dbd-01fd-48c7-9f28-b07d9f683f04",
   "metadata": {},
   "outputs": [
    {
     "data": {
      "text/plain": [
       "[<matplotlib.lines.Line2D at 0x1ad8433dbd0>]"
      ]
     },
     "execution_count": 10,
     "metadata": {},
     "output_type": "execute_result"
    },
    {
     "data": {
      "image/png": "[encoded data removed]",
      "text/plain": [
       "<Figure size 640x480 with 1 Axes>"
      ]
     },
     "metadata": {},
     "output_type": "display_data"
    }
   ],
   "source": [
    "plt.plot(df.price)"
   ]
  },
  {
   "cell_type": "code",
   "execution_count": 11,
   "id": "f822f290-eb6a-47e3-a1ad-0a660fbe8f42",
   "metadata": {},
   "outputs": [
    {
     "data": {
      "text/plain": [
       "category\n",
       "Accessories     29.99\n",
       "Clothing       129.99\n",
       "Electronics    799.99\n",
       "Name: price, dtype: float64"
      ]
     },
     "execution_count": 11,
     "metadata": {},
     "output_type": "execute_result"
    }
   ],
   "source": [
    "df.groupby('category')['price'].max()"
   ]
  },
  {
   "cell_type": "code",
   "execution_count": 12,
   "id": "ff75658f-1996-4f88-bd7f-352031a8b8b5",
   "metadata": {},
   "outputs": [
    {
     "data": {
      "text/plain": [
       "brand\n",
       "AudioX        59.99\n",
       "CaseMate      29.99\n",
       "ColdTech     129.99\n",
       "SoundPro     199.99\n",
       "Visionary    799.99\n",
       "Name: price, dtype: float64"
      ]
     },
     "execution_count": 12,
     "metadata": {},
     "output_type": "execute_result"
    }
   ],
   "source": [
    "df.groupby('brand')['price'].max()"
   ]
  },
  {
   "cell_type": "code",
   "execution_count": 22,
   "id": "cc07ef45-e16b-4e55-a4b3-398f5c35e7d3",
   "metadata": {},
   "outputs": [
    {
     "data": {
      "text/plain": [
       "<Axes: xlabel='brand', ylabel='price'>"
      ]
     },
     "execution_count": 22,
     "metadata": {},
     "output_type": "execute_result"
    },
    {
     "data": {
      "image/png": "[encoded data removed]",
      "text/plain": [
       "<Figure size 640x480 with 1 Axes>"
      ]
     },
     "metadata": {},
     "output_type": "display_data"
    }
   ],
   "source": [
    "b=df.groupby('brand', as_index=False)['price'].max()\n",
    "sns.lineplot(x='brand',y='price',data=b)"
   ]
  },
  {
   "cell_type": "code",
   "execution_count": 23,
   "id": "12b31810-8591-42cc-a63e-6280a843b98c",
   "metadata": {},
   "outputs": [
    {
     "name": "stdout",
     "output_type": "stream",
     "text": [
      "<class 'pandas.core.frame.DataFrame'>\n",
      "RangeIndex: 5 entries, 0 to 4\n",
      "Data columns (total 13 columns):\n",
      " #   Column       Non-Null Count  Dtype  \n",
      "---  ------       --------------  -----  \n",
      " 0   productId    5 non-null      int64  \n",
      " 1   productName  5 non-null      object \n",
      " 2   description  5 non-null      object \n",
      " 3   brand        5 non-null      object \n",
      " 4   category     5 non-null      object \n",
      " 5   price        5 non-null      float64\n",
      " 6   currency     5 non-null      object \n",
      " 7   stock        5 non-null      object \n",
      " 8   images       5 non-null      object \n",
      " 9   variants     5 non-null      object \n",
      " 10  dimensions   5 non-null      object \n",
      " 11  ratings      5 non-null      object \n",
      " 12  reviews      5 non-null      object \n",
      "dtypes: float64(1), int64(1), object(11)\n",
      "memory usage: 652.0+ bytes\n"
     ]
    }
   ],
   "source": [
    "df.info()"
   ]
  },
  {
   "cell_type": "code",
   "execution_count": 24,
   "id": "98bbccff-ad94-427e-9d3b-8dfdc7634f3d",
   "metadata": {},
   "outputs": [
    {
     "data": {
      "text/html": [
       "<div>\n",
       "<style scoped>\n",
       "    .dataframe tbody tr th:only-of-type {\n",
       "        vertical-align: middle;\n",
       "    }\n",
       "\n",
       "    .dataframe tbody tr th {\n",
       "        vertical-align: top;\n",
       "    }\n",
       "\n",
       "    .dataframe thead th {\n",
       "        text-align: right;\n",
       "    }\n",
       "</style>\n",
       "<table border=\"1\" class=\"dataframe\">\n",
       "  <thead>\n",
       "    <tr style=\"text-align: right;\">\n",
       "      <th></th>\n",
       "      <th>productId</th>\n",
       "      <th>price</th>\n",
       "    </tr>\n",
       "  </thead>\n",
       "  <tbody>\n",
       "    <tr>\n",
       "      <th>count</th>\n",
       "      <td>5.000000</td>\n",
       "      <td>5.000000</td>\n",
       "    </tr>\n",
       "    <tr>\n",
       "      <th>mean</th>\n",
       "      <td>1003.000000</td>\n",
       "      <td>243.990000</td>\n",
       "    </tr>\n",
       "    <tr>\n",
       "      <th>std</th>\n",
       "      <td>1.581139</td>\n",
       "      <td>317.694822</td>\n",
       "    </tr>\n",
       "    <tr>\n",
       "      <th>min</th>\n",
       "      <td>1001.000000</td>\n",
       "      <td>29.990000</td>\n",
       "    </tr>\n",
       "    <tr>\n",
       "      <th>25%</th>\n",
       "      <td>1002.000000</td>\n",
       "      <td>59.990000</td>\n",
       "    </tr>\n",
       "    <tr>\n",
       "      <th>50%</th>\n",
       "      <td>1003.000000</td>\n",
       "      <td>129.990000</td>\n",
       "    </tr>\n",
       "    <tr>\n",
       "      <th>75%</th>\n",
       "      <td>1004.000000</td>\n",
       "      <td>199.990000</td>\n",
       "    </tr>\n",
       "    <tr>\n",
       "      <th>max</th>\n",
       "      <td>1005.000000</td>\n",
       "      <td>799.990000</td>\n",
       "    </tr>\n",
       "  </tbody>\n",
       "</table>\n",
       "</div>"
      ],
      "text/plain": [
       "         productId       price\n",
       "count     5.000000    5.000000\n",
       "mean   1003.000000  243.990000\n",
       "std       1.581139  317.694822\n",
       "min    1001.000000   29.990000\n",
       "25%    1002.000000   59.990000\n",
       "50%    1003.000000  129.990000\n",
       "75%    1004.000000  199.990000\n",
       "max    1005.000000  799.990000"
      ]
     },
     "execution_count": 24,
     "metadata": {},
     "output_type": "execute_result"
    }
   ],
   "source": [
    "df.describe()"
   ]
  },
  {
   "cell_type": "code",
   "execution_count": 33,
   "id": "1ae19b84-94de-42d3-8050-7833acf55f7f",
   "metadata": {},
   "outputs": [
    {
     "data": {
      "text/plain": [
       "pandas.core.frame.DataFrame"
      ]
     },
     "execution_count": 33,
     "metadata": {},
     "output_type": "execute_result"
    }
   ],
   "source": [
    "type(ratings)"
   ]
  },
  {
   "cell_type": "code",
   "execution_count": 36,
   "id": "30dc2002-d807-4107-a5e7-988fca66386a",
   "metadata": {},
   "outputs": [
    {
     "data": {
      "text/html": [
       "<div>\n",
       "<style scoped>\n",
       "    .dataframe tbody tr th:only-of-type {\n",
       "        vertical-align: middle;\n",
       "    }\n",
       "\n",
       "    .dataframe tbody tr th {\n",
       "        vertical-align: top;\n",
       "    }\n",
       "\n",
       "    .dataframe thead th {\n",
       "        text-align: right;\n",
       "    }\n",
       "</style>\n",
       "<table border=\"1\" class=\"dataframe\">\n",
       "  <thead>\n",
       "    <tr style=\"text-align: right;\">\n",
       "      <th></th>\n",
       "      <th>ratings</th>\n",
       "    </tr>\n",
       "  </thead>\n",
       "  <tbody>\n",
       "    <tr>\n",
       "      <th>0</th>\n",
       "      <td>{'averageRating': 4.7, 'numberOfReviews': 120}</td>\n",
       "    </tr>\n",
       "    <tr>\n",
       "      <th>1</th>\n",
       "      <td>{'averageRating': 4.4, 'numberOfReviews': 80}</td>\n",
       "    </tr>\n",
       "    <tr>\n",
       "      <th>2</th>\n",
       "      <td>{'averageRating': 4.8, 'numberOfReviews': 250}</td>\n",
       "    </tr>\n",
       "    <tr>\n",
       "      <th>3</th>\n",
       "      <td>{'averageRating': 4.6, 'numberOfReviews': 150}</td>\n",
       "    </tr>\n",
       "    <tr>\n",
       "      <th>4</th>\n",
       "      <td>{'averageRating': 4.5, 'numberOfReviews': 60}</td>\n",
       "    </tr>\n",
       "  </tbody>\n",
       "</table>\n",
       "</div>"
      ],
      "text/plain": [
       "                                          ratings\n",
       "0  {'averageRating': 4.7, 'numberOfReviews': 120}\n",
       "1   {'averageRating': 4.4, 'numberOfReviews': 80}\n",
       "2  {'averageRating': 4.8, 'numberOfReviews': 250}\n",
       "3  {'averageRating': 4.6, 'numberOfReviews': 150}\n",
       "4   {'averageRating': 4.5, 'numberOfReviews': 60}"
      ]
     },
     "execution_count": 36,
     "metadata": {},
     "output_type": "execute_result"
    }
   ],
   "source": [
    "ratings"
   ]
  },
  {
   "cell_type": "code",
   "execution_count": 44,
   "id": "6ff8acb9-dd02-4e61-ae5a-50e4d9a59c29",
   "metadata": {},
   "outputs": [],
   "source": [
    "df=pd.json_normalize(data)"
   ]
  },
  {
   "cell_type": "code",
   "execution_count": 45,
   "id": "f526fce9-0d03-49da-a244-b8bbaff22059",
   "metadata": {},
   "outputs": [
    {
     "data": {
      "text/html": [
       "<div>\n",
       "<style scoped>\n",
       "    .dataframe tbody tr th:only-of-type {\n",
       "        vertical-align: middle;\n",
       "    }\n",
       "\n",
       "    .dataframe tbody tr th {\n",
       "        vertical-align: top;\n",
       "    }\n",
       "\n",
       "    .dataframe thead th {\n",
       "        text-align: right;\n",
       "    }\n",
       "</style>\n",
       "<table border=\"1\" class=\"dataframe\">\n",
       "  <thead>\n",
       "    <tr style=\"text-align: right;\">\n",
       "      <th></th>\n",
       "      <th>productId</th>\n",
       "      <th>productName</th>\n",
       "      <th>description</th>\n",
       "      <th>brand</th>\n",
       "      <th>category</th>\n",
       "      <th>price</th>\n",
       "      <th>currency</th>\n",
       "      <th>images</th>\n",
       "      <th>variants</th>\n",
       "      <th>reviews</th>\n",
       "      <th>stock.available</th>\n",
       "      <th>stock.quantity</th>\n",
       "      <th>dimensions.weight</th>\n",
       "      <th>dimensions.width</th>\n",
       "      <th>dimensions.height</th>\n",
       "      <th>dimensions.depth</th>\n",
       "      <th>ratings.averageRating</th>\n",
       "      <th>ratings.numberOfReviews</th>\n",
       "    </tr>\n",
       "  </thead>\n",
       "  <tbody>\n",
       "    <tr>\n",
       "      <th>0</th>\n",
       "      <td>1001</td>\n",
       "      <td>Wireless Headphones</td>\n",
       "      <td>Noise-cancelling wireless headphones with Blue...</td>\n",
       "      <td>SoundPro</td>\n",
       "      <td>Electronics</td>\n",
       "      <td>199.99</td>\n",
       "      <td>USD</td>\n",
       "      <td>[https://example.com/products/1001/main.jpg, h...</td>\n",
       "      <td>[{'variantId': '1001_01', 'color': 'Black', 'p...</td>\n",
       "      <td>[{'reviewId': 501, 'userId': 101, 'username': ...</td>\n",
       "      <td>True</td>\n",
       "      <td>50</td>\n",
       "      <td>0.5kg</td>\n",
       "      <td>18cm</td>\n",
       "      <td>20cm</td>\n",
       "      <td>8cm</td>\n",
       "      <td>4.7</td>\n",
       "      <td>120</td>\n",
       "    </tr>\n",
       "    <tr>\n",
       "      <th>1</th>\n",
       "      <td>1002</td>\n",
       "      <td>Smartphone Case</td>\n",
       "      <td>Durable and shockproof case for smartphones, a...</td>\n",
       "      <td>CaseMate</td>\n",
       "      <td>Accessories</td>\n",
       "      <td>29.99</td>\n",
       "      <td>USD</td>\n",
       "      <td>[https://example.com/products/1002/main.jpg, h...</td>\n",
       "      <td>[{'variantId': '1002_01', 'color': 'Black', 'p...</td>\n",
       "      <td>[{'reviewId': 601, 'userId': 103, 'username': ...</td>\n",
       "      <td>True</td>\n",
       "      <td>200</td>\n",
       "      <td>0.2kg</td>\n",
       "      <td>8cm</td>\n",
       "      <td>15cm</td>\n",
       "      <td>1cm</td>\n",
       "      <td>4.4</td>\n",
       "      <td>80</td>\n",
       "    </tr>\n",
       "    <tr>\n",
       "      <th>2</th>\n",
       "      <td>1003</td>\n",
       "      <td>4K Ultra HD Smart TV</td>\n",
       "      <td>55-inch 4K Ultra HD Smart TV with built-in Wi-...</td>\n",
       "      <td>Visionary</td>\n",
       "      <td>Electronics</td>\n",
       "      <td>799.99</td>\n",
       "      <td>USD</td>\n",
       "      <td>[https://example.com/products/1003/main.jpg, h...</td>\n",
       "      <td>[{'variantId': '1003_01', 'screenSize': '55 in...</td>\n",
       "      <td>[{'reviewId': 701, 'userId': 105, 'username': ...</td>\n",
       "      <td>True</td>\n",
       "      <td>30</td>\n",
       "      <td>15kg</td>\n",
       "      <td>123cm</td>\n",
       "      <td>80cm</td>\n",
       "      <td>10cm</td>\n",
       "      <td>4.8</td>\n",
       "      <td>250</td>\n",
       "    </tr>\n",
       "    <tr>\n",
       "      <th>3</th>\n",
       "      <td>1004</td>\n",
       "      <td>Bluetooth Speaker</td>\n",
       "      <td>Portable Bluetooth speaker with 12-hour batter...</td>\n",
       "      <td>AudioX</td>\n",
       "      <td>Electronics</td>\n",
       "      <td>59.99</td>\n",
       "      <td>USD</td>\n",
       "      <td>[https://example.com/products/1004/main.jpg, h...</td>\n",
       "      <td>[{'variantId': '1004_01', 'color': 'Red', 'pri...</td>\n",
       "      <td>[{'reviewId': 801, 'userId': 107, 'username': ...</td>\n",
       "      <td>True</td>\n",
       "      <td>100</td>\n",
       "      <td>0.3kg</td>\n",
       "      <td>15cm</td>\n",
       "      <td>8cm</td>\n",
       "      <td>5cm</td>\n",
       "      <td>4.6</td>\n",
       "      <td>150</td>\n",
       "    </tr>\n",
       "    <tr>\n",
       "      <th>4</th>\n",
       "      <td>1005</td>\n",
       "      <td>Winter Jacket</td>\n",
       "      <td>Men's water-resistant winter jacket with a fur...</td>\n",
       "      <td>ColdTech</td>\n",
       "      <td>Clothing</td>\n",
       "      <td>129.99</td>\n",
       "      <td>USD</td>\n",
       "      <td>[https://example.com/products/1005/main.jpg, h...</td>\n",
       "      <td>[{'variantId': '1005_01', 'size': 'M', 'color'...</td>\n",
       "      <td>[{'reviewId': 901, 'userId': 109, 'username': ...</td>\n",
       "      <td>True</td>\n",
       "      <td>80</td>\n",
       "      <td>1.5kg</td>\n",
       "      <td>60cm</td>\n",
       "      <td>85cm</td>\n",
       "      <td>5cm</td>\n",
       "      <td>4.5</td>\n",
       "      <td>60</td>\n",
       "    </tr>\n",
       "  </tbody>\n",
       "</table>\n",
       "</div>"
      ],
      "text/plain": [
       "   productId           productName  \\\n",
       "0       1001   Wireless Headphones   \n",
       "1       1002       Smartphone Case   \n",
       "2       1003  4K Ultra HD Smart TV   \n",
       "3       1004     Bluetooth Speaker   \n",
       "4       1005         Winter Jacket   \n",
       "\n",
       "                                         description      brand     category  \\\n",
       "0  Noise-cancelling wireless headphones with Blue...   SoundPro  Electronics   \n",
       "1  Durable and shockproof case for smartphones, a...   CaseMate  Accessories   \n",
       "2  55-inch 4K Ultra HD Smart TV with built-in Wi-...  Visionary  Electronics   \n",
       "3  Portable Bluetooth speaker with 12-hour batter...     AudioX  Electronics   \n",
       "4  Men's water-resistant winter jacket with a fur...   ColdTech     Clothing   \n",
       "\n",
       "    price currency                                             images  \\\n",
       "0  199.99      USD  [https://example.com/products/1001/main.jpg, h...   \n",
       "1   29.99      USD  [https://example.com/products/1002/main.jpg, h...   \n",
       "2  799.99      USD  [https://example.com/products/1003/main.jpg, h...   \n",
       "3   59.99      USD  [https://example.com/products/1004/main.jpg, h...   \n",
       "4  129.99      USD  [https://example.com/products/1005/main.jpg, h...   \n",
       "\n",
       "                                            variants  \\\n",
       "0  [{'variantId': '1001_01', 'color': 'Black', 'p...   \n",
       "1  [{'variantId': '1002_01', 'color': 'Black', 'p...   \n",
       "2  [{'variantId': '1003_01', 'screenSize': '55 in...   \n",
       "3  [{'variantId': '1004_01', 'color': 'Red', 'pri...   \n",
       "4  [{'variantId': '1005_01', 'size': 'M', 'color'...   \n",
       "\n",
       "                                             reviews  stock.available  \\\n",
       "0  [{'reviewId': 501, 'userId': 101, 'username': ...             True   \n",
       "1  [{'reviewId': 601, 'userId': 103, 'username': ...             True   \n",
       "2  [{'reviewId': 701, 'userId': 105, 'username': ...             True   \n",
       "3  [{'reviewId': 801, 'userId': 107, 'username': ...             True   \n",
       "4  [{'reviewId': 901, 'userId': 109, 'username': ...             True   \n",
       "\n",
       "   stock.quantity dimensions.weight dimensions.width dimensions.height  \\\n",
       "0              50             0.5kg             18cm              20cm   \n",
       "1             200             0.2kg              8cm              15cm   \n",
       "2              30              15kg            123cm              80cm   \n",
       "3             100             0.3kg             15cm               8cm   \n",
       "4              80             1.5kg             60cm              85cm   \n",
       "\n",
       "  dimensions.depth  ratings.averageRating  ratings.numberOfReviews  \n",
       "0              8cm                    4.7                      120  \n",
       "1              1cm                    4.4                       80  \n",
       "2             10cm                    4.8                      250  \n",
       "3              5cm                    4.6                      150  \n",
       "4              5cm                    4.5                       60  "
      ]
     },
     "execution_count": 45,
     "metadata": {},
     "output_type": "execute_result"
    }
   ],
   "source": [
    "df.head()"
   ]
  },
  {
   "cell_type": "code",
   "execution_count": 46,
   "id": "6ee3fa59-ff77-42a4-ad19-19a43e0756f3",
   "metadata": {},
   "outputs": [
    {
     "name": "stdout",
     "output_type": "stream",
     "text": [
      "<class 'pandas.core.frame.DataFrame'>\n",
      "RangeIndex: 5 entries, 0 to 4\n",
      "Data columns (total 18 columns):\n",
      " #   Column                   Non-Null Count  Dtype  \n",
      "---  ------                   --------------  -----  \n",
      " 0   productId                5 non-null      int64  \n",
      " 1   productName              5 non-null      object \n",
      " 2   description              5 non-null      object \n",
      " 3   brand                    5 non-null      object \n",
      " 4   category                 5 non-null      object \n",
      " 5   price                    5 non-null      float64\n",
      " 6   currency                 5 non-null      object \n",
      " 7   images                   5 non-null      object \n",
      " 8   variants                 5 non-null      object \n",
      " 9   reviews                  5 non-null      object \n",
      " 10  stock.available          5 non-null      bool   \n",
      " 11  stock.quantity           5 non-null      int64  \n",
      " 12  dimensions.weight        5 non-null      object \n",
      " 13  dimensions.width         5 non-null      object \n",
      " 14  dimensions.height        5 non-null      object \n",
      " 15  dimensions.depth         5 non-null      object \n",
      " 16  ratings.averageRating    5 non-null      float64\n",
      " 17  ratings.numberOfReviews  5 non-null      int64  \n",
      "dtypes: bool(1), float64(2), int64(3), object(12)\n",
      "memory usage: 817.0+ bytes\n"
     ]
    }
   ],
   "source": [
    "df.info()"
   ]
  },
  {
   "cell_type": "code",
   "execution_count": 47,
   "id": "2a11ca54-6e0b-4d66-bdc0-7e4e66dcfbab",
   "metadata": {},
   "outputs": [
    {
     "data": {
      "text/html": [
       "<div>\n",
       "<style scoped>\n",
       "    .dataframe tbody tr th:only-of-type {\n",
       "        vertical-align: middle;\n",
       "    }\n",
       "\n",
       "    .dataframe tbody tr th {\n",
       "        vertical-align: top;\n",
       "    }\n",
       "\n",
       "    .dataframe thead th {\n",
       "        text-align: right;\n",
       "    }\n",
       "</style>\n",
       "<table border=\"1\" class=\"dataframe\">\n",
       "  <thead>\n",
       "    <tr style=\"text-align: right;\">\n",
       "      <th></th>\n",
       "      <th>productId</th>\n",
       "      <th>price</th>\n",
       "      <th>stock.quantity</th>\n",
       "      <th>ratings.averageRating</th>\n",
       "      <th>ratings.numberOfReviews</th>\n",
       "    </tr>\n",
       "  </thead>\n",
       "  <tbody>\n",
       "    <tr>\n",
       "      <th>count</th>\n",
       "      <td>5.000000</td>\n",
       "      <td>5.000000</td>\n",
       "      <td>5.000000</td>\n",
       "      <td>5.000000</td>\n",
       "      <td>5.000000</td>\n",
       "    </tr>\n",
       "    <tr>\n",
       "      <th>mean</th>\n",
       "      <td>1003.000000</td>\n",
       "      <td>243.990000</td>\n",
       "      <td>92.000000</td>\n",
       "      <td>4.600000</td>\n",
       "      <td>132.000000</td>\n",
       "    </tr>\n",
       "    <tr>\n",
       "      <th>std</th>\n",
       "      <td>1.581139</td>\n",
       "      <td>317.694822</td>\n",
       "      <td>66.105976</td>\n",
       "      <td>0.158114</td>\n",
       "      <td>74.632433</td>\n",
       "    </tr>\n",
       "    <tr>\n",
       "      <th>min</th>\n",
       "      <td>1001.000000</td>\n",
       "      <td>29.990000</td>\n",
       "      <td>30.000000</td>\n",
       "      <td>4.400000</td>\n",
       "      <td>60.000000</td>\n",
       "    </tr>\n",
       "    <tr>\n",
       "      <th>25%</th>\n",
       "      <td>1002.000000</td>\n",
       "      <td>59.990000</td>\n",
       "      <td>50.000000</td>\n",
       "      <td>4.500000</td>\n",
       "      <td>80.000000</td>\n",
       "    </tr>\n",
       "    <tr>\n",
       "      <th>50%</th>\n",
       "      <td>1003.000000</td>\n",
       "      <td>129.990000</td>\n",
       "      <td>80.000000</td>\n",
       "      <td>4.600000</td>\n",
       "      <td>120.000000</td>\n",
       "    </tr>\n",
       "    <tr>\n",
       "      <th>75%</th>\n",
       "      <td>1004.000000</td>\n",
       "      <td>199.990000</td>\n",
       "      <td>100.000000</td>\n",
       "      <td>4.700000</td>\n",
       "      <td>150.000000</td>\n",
       "    </tr>\n",
       "    <tr>\n",
       "      <th>max</th>\n",
       "      <td>1005.000000</td>\n",
       "      <td>799.990000</td>\n",
       "      <td>200.000000</td>\n",
       "      <td>4.800000</td>\n",
       "      <td>250.000000</td>\n",
       "    </tr>\n",
       "  </tbody>\n",
       "</table>\n",
       "</div>"
      ],
      "text/plain": [
       "         productId       price  stock.quantity  ratings.averageRating  \\\n",
       "count     5.000000    5.000000        5.000000               5.000000   \n",
       "mean   1003.000000  243.990000       92.000000               4.600000   \n",
       "std       1.581139  317.694822       66.105976               0.158114   \n",
       "min    1001.000000   29.990000       30.000000               4.400000   \n",
       "25%    1002.000000   59.990000       50.000000               4.500000   \n",
       "50%    1003.000000  129.990000       80.000000               4.600000   \n",
       "75%    1004.000000  199.990000      100.000000               4.700000   \n",
       "max    1005.000000  799.990000      200.000000               4.800000   \n",
       "\n",
       "       ratings.numberOfReviews  \n",
       "count                 5.000000  \n",
       "mean                132.000000  \n",
       "std                  74.632433  \n",
       "min                  60.000000  \n",
       "25%                  80.000000  \n",
       "50%                 120.000000  \n",
       "75%                 150.000000  \n",
       "max                 250.000000  "
      ]
     },
     "execution_count": 47,
     "metadata": {},
     "output_type": "execute_result"
    }
   ],
   "source": [
    "df.describe()"
   ]
  },
  {
   "cell_type": "code",
   "execution_count": 48,
   "id": "dcd5e49d-440a-47f3-bb29-55052307fe62",
   "metadata": {},
   "outputs": [
    {
     "data": {
      "text/plain": [
       "[<matplotlib.lines.Line2D at 0x1ad8a5cccd0>]"
      ]
     },
     "execution_count": 48,
     "metadata": {},
     "output_type": "execute_result"
    },
    {
     "data": {
      "image/png": "[encoded data removed]",
      "text/plain": [
       "<Figure size 640x480 with 1 Axes>"
      ]
     },
     "metadata": {},
     "output_type": "display_data"
    }
   ],
   "source": [
    "plt.plot(df.price)"
   ]
  },
  {
   "cell_type": "code",
   "execution_count": 54,
   "id": "2275dd77-120b-4e16-b142-d8a150e52a05",
   "metadata": {},
   "outputs": [
    {
     "data": {
      "text/plain": [
       "<Axes: xlabel='productName', ylabel='ratings.averageRating'>"
      ]
     },
     "execution_count": 54,
     "metadata": {},
     "output_type": "execute_result"
    },
    {
     "data": {
      "image/png": "[encoded data removed]",
      "text/plain": [
       "<Figure size 1600x900 with 1 Axes>"
      ]
     },
     "metadata": {},
     "output_type": "display_data"
    }
   ],
   "source": [
    "plt.figure(figsize=(16,9))\n",
    "sns.lineplot(x='productName',y='ratings.averageRating',data=df)"
   ]
  },
  {
   "cell_type": "code",
   "execution_count": 55,
   "id": "2a8ee01f-c4d9-4313-8ae8-058245c0e81d",
   "metadata": {},
   "outputs": [
    {
     "data": {
      "text/plain": [
       "<Axes: xlabel='productName', ylabel='price'>"
      ]
     },
     "execution_count": 55,
     "metadata": {},
     "output_type": "execute_result"
    },
    {
     "data": {
      "image/png": "[encoded data removed]",
      "text/plain": [
       "<Figure size 1600x900 with 1 Axes>"
      ]
     },
     "metadata": {},
     "output_type": "display_data"
    }
   ],
   "source": [
    "plt.figure(figsize=(16,9))\n",
    "sns.lineplot(x='productName',y='price',data=df)"
   ]
  },
  {
   "cell_type": "code",
   "execution_count": 58,
   "id": "2619e6b2-011e-4cf1-ba31-6532a7b0af09",
   "metadata": {},
   "outputs": [],
   "source": [
    "import re \n",
    "columns_to_clean =['dimensions.weight','dimensions.width','dimensions.height','dimensions.depth']\n",
    "for col in columns_to_clean:\n",
    "    df[col]=df[col].astype(str).str.replace(r'[^\\d.]','',regex=True)\n",
    "    df[col]=pd.to_numeric(df[col],errors='coerce')"
   ]
  },
  {
   "cell_type": "code",
   "execution_count": 59,
   "id": "1d116170-a10d-4251-824f-17853dd211d9",
   "metadata": {},
   "outputs": [
    {
     "data": {
      "text/html": [
       "<div>\n",
       "<style scoped>\n",
       "    .dataframe tbody tr th:only-of-type {\n",
       "        vertical-align: middle;\n",
       "    }\n",
       "\n",
       "    .dataframe tbody tr th {\n",
       "        vertical-align: top;\n",
       "    }\n",
       "\n",
       "    .dataframe thead th {\n",
       "        text-align: right;\n",
       "    }\n",
       "</style>\n",
       "<table border=\"1\" class=\"dataframe\">\n",
       "  <thead>\n",
       "    <tr style=\"text-align: right;\">\n",
       "      <th></th>\n",
       "      <th>productId</th>\n",
       "      <th>productName</th>\n",
       "      <th>description</th>\n",
       "      <th>brand</th>\n",
       "      <th>category</th>\n",
       "      <th>price</th>\n",
       "      <th>currency</th>\n",
       "      <th>images</th>\n",
       "      <th>variants</th>\n",
       "      <th>reviews</th>\n",
       "      <th>stock.available</th>\n",
       "      <th>stock.quantity</th>\n",
       "      <th>dimensions.weight</th>\n",
       "      <th>dimensions.width</th>\n",
       "      <th>dimensions.height</th>\n",
       "      <th>dimensions.depth</th>\n",
       "      <th>ratings.averageRating</th>\n",
       "      <th>ratings.numberOfReviews</th>\n",
       "    </tr>\n",
       "  </thead>\n",
       "  <tbody>\n",
       "    <tr>\n",
       "      <th>0</th>\n",
       "      <td>1001</td>\n",
       "      <td>Wireless Headphones</td>\n",
       "      <td>Noise-cancelling wireless headphones with Blue...</td>\n",
       "      <td>SoundPro</td>\n",
       "      <td>Electronics</td>\n",
       "      <td>199.99</td>\n",
       "      <td>USD</td>\n",
       "      <td>[https://example.com/products/1001/main.jpg, h...</td>\n",
       "      <td>[{'variantId': '1001_01', 'color': 'Black', 'p...</td>\n",
       "      <td>[{'reviewId': 501, 'userId': 101, 'username': ...</td>\n",
       "      <td>True</td>\n",
       "      <td>50</td>\n",
       "      <td>0.5</td>\n",
       "      <td>18</td>\n",
       "      <td>20</td>\n",
       "      <td>8</td>\n",
       "      <td>4.7</td>\n",
       "      <td>120</td>\n",
       "    </tr>\n",
       "    <tr>\n",
       "      <th>1</th>\n",
       "      <td>1002</td>\n",
       "      <td>Smartphone Case</td>\n",
       "      <td>Durable and shockproof case for smartphones, a...</td>\n",
       "      <td>CaseMate</td>\n",
       "      <td>Accessories</td>\n",
       "      <td>29.99</td>\n",
       "      <td>USD</td>\n",
       "      <td>[https://example.com/products/1002/main.jpg, h...</td>\n",
       "      <td>[{'variantId': '1002_01', 'color': 'Black', 'p...</td>\n",
       "      <td>[{'reviewId': 601, 'userId': 103, 'username': ...</td>\n",
       "      <td>True</td>\n",
       "      <td>200</td>\n",
       "      <td>0.2</td>\n",
       "      <td>8</td>\n",
       "      <td>15</td>\n",
       "      <td>1</td>\n",
       "      <td>4.4</td>\n",
       "      <td>80</td>\n",
       "    </tr>\n",
       "    <tr>\n",
       "      <th>2</th>\n",
       "      <td>1003</td>\n",
       "      <td>4K Ultra HD Smart TV</td>\n",
       "      <td>55-inch 4K Ultra HD Smart TV with built-in Wi-...</td>\n",
       "      <td>Visionary</td>\n",
       "      <td>Electronics</td>\n",
       "      <td>799.99</td>\n",
       "      <td>USD</td>\n",
       "      <td>[https://example.com/products/1003/main.jpg, h...</td>\n",
       "      <td>[{'variantId': '1003_01', 'screenSize': '55 in...</td>\n",
       "      <td>[{'reviewId': 701, 'userId': 105, 'username': ...</td>\n",
       "      <td>True</td>\n",
       "      <td>30</td>\n",
       "      <td>15.0</td>\n",
       "      <td>123</td>\n",
       "      <td>80</td>\n",
       "      <td>10</td>\n",
       "      <td>4.8</td>\n",
       "      <td>250</td>\n",
       "    </tr>\n",
       "    <tr>\n",
       "      <th>3</th>\n",
       "      <td>1004</td>\n",
       "      <td>Bluetooth Speaker</td>\n",
       "      <td>Portable Bluetooth speaker with 12-hour batter...</td>\n",
       "      <td>AudioX</td>\n",
       "      <td>Electronics</td>\n",
       "      <td>59.99</td>\n",
       "      <td>USD</td>\n",
       "      <td>[https://example.com/products/1004/main.jpg, h...</td>\n",
       "      <td>[{'variantId': '1004_01', 'color': 'Red', 'pri...</td>\n",
       "      <td>[{'reviewId': 801, 'userId': 107, 'username': ...</td>\n",
       "      <td>True</td>\n",
       "      <td>100</td>\n",
       "      <td>0.3</td>\n",
       "      <td>15</td>\n",
       "      <td>8</td>\n",
       "      <td>5</td>\n",
       "      <td>4.6</td>\n",
       "      <td>150</td>\n",
       "    </tr>\n",
       "    <tr>\n",
       "      <th>4</th>\n",
       "      <td>1005</td>\n",
       "      <td>Winter Jacket</td>\n",
       "      <td>Men's water-resistant winter jacket with a fur...</td>\n",
       "      <td>ColdTech</td>\n",
       "      <td>Clothing</td>\n",
       "      <td>129.99</td>\n",
       "      <td>USD</td>\n",
       "      <td>[https://example.com/products/1005/main.jpg, h...</td>\n",
       "      <td>[{'variantId': '1005_01', 'size': 'M', 'color'...</td>\n",
       "      <td>[{'reviewId': 901, 'userId': 109, 'username': ...</td>\n",
       "      <td>True</td>\n",
       "      <td>80</td>\n",
       "      <td>1.5</td>\n",
       "      <td>60</td>\n",
       "      <td>85</td>\n",
       "      <td>5</td>\n",
       "      <td>4.5</td>\n",
       "      <td>60</td>\n",
       "    </tr>\n",
       "  </tbody>\n",
       "</table>\n",
       "</div>"
      ],
      "text/plain": [
       "   productId           productName  \\\n",
       "0       1001   Wireless Headphones   \n",
       "1       1002       Smartphone Case   \n",
       "2       1003  4K Ultra HD Smart TV   \n",
       "3       1004     Bluetooth Speaker   \n",
       "4       1005         Winter Jacket   \n",
       "\n",
       "                                         description      brand     category  \\\n",
       "0  Noise-cancelling wireless headphones with Blue...   SoundPro  Electronics   \n",
       "1  Durable and shockproof case for smartphones, a...   CaseMate  Accessories   \n",
       "2  55-inch 4K Ultra HD Smart TV with built-in Wi-...  Visionary  Electronics   \n",
       "3  Portable Bluetooth speaker with 12-hour batter...     AudioX  Electronics   \n",
       "4  Men's water-resistant winter jacket with a fur...   ColdTech     Clothing   \n",
       "\n",
       "    price currency                                             images  \\\n",
       "0  199.99      USD  [https://example.com/products/1001/main.jpg, h...   \n",
       "1   29.99      USD  [https://example.com/products/1002/main.jpg, h...   \n",
       "2  799.99      USD  [https://example.com/products/1003/main.jpg, h...   \n",
       "3   59.99      USD  [https://example.com/products/1004/main.jpg, h...   \n",
       "4  129.99      USD  [https://example.com/products/1005/main.jpg, h...   \n",
       "\n",
       "                                            variants  \\\n",
       "0  [{'variantId': '1001_01', 'color': 'Black', 'p...   \n",
       "1  [{'variantId': '1002_01', 'color': 'Black', 'p...   \n",
       "2  [{'variantId': '1003_01', 'screenSize': '55 in...   \n",
       "3  [{'variantId': '1004_01', 'color': 'Red', 'pri...   \n",
       "4  [{'variantId': '1005_01', 'size': 'M', 'color'...   \n",
       "\n",
       "                                             reviews  stock.available  \\\n",
       "0  [{'reviewId': 501, 'userId': 101, 'username': ...             True   \n",
       "1  [{'reviewId': 601, 'userId': 103, 'username': ...             True   \n",
       "2  [{'reviewId': 701, 'userId': 105, 'username': ...             True   \n",
       "3  [{'reviewId': 801, 'userId': 107, 'username': ...             True   \n",
       "4  [{'reviewId': 901, 'userId': 109, 'username': ...             True   \n",
       "\n",
       "   stock.quantity  dimensions.weight  dimensions.width  dimensions.height  \\\n",
       "0              50                0.5                18                 20   \n",
       "1             200                0.2                 8                 15   \n",
       "2              30               15.0               123                 80   \n",
       "3             100                0.3                15                  8   \n",
       "4              80                1.5                60                 85   \n",
       "\n",
       "   dimensions.depth  ratings.averageRating  ratings.numberOfReviews  \n",
       "0                 8                    4.7                      120  \n",
       "1                 1                    4.4                       80  \n",
       "2                10                    4.8                      250  \n",
       "3                 5                    4.6                      150  \n",
       "4                 5                    4.5                       60  "
      ]
     },
     "execution_count": 59,
     "metadata": {},
     "output_type": "execute_result"
    }
   ],
   "source": [
    "df"
   ]
  },
  {
   "cell_type": "code",
   "execution_count": 61,
   "id": "1bac0c92-8270-4473-b5e7-fea6a704d077",
   "metadata": {},
   "outputs": [],
   "source": [
    "df['num_images'] = df['images'].apply(lambda x: len(x) if isinstance(x, list) else 0)\n",
    "df['num_variants'] = df['variants'].apply(lambda x: len(x) if isinstance(x, list) else 0)"
   ]
  },
  {
   "cell_type": "code",
   "execution_count": 62,
   "id": "74291081-f255-4bb4-8936-282cfa2e8358",
   "metadata": {},
   "outputs": [
    {
     "data": {
      "text/html": [
       "<div>\n",
       "<style scoped>\n",
       "    .dataframe tbody tr th:only-of-type {\n",
       "        vertical-align: middle;\n",
       "    }\n",
       "\n",
       "    .dataframe tbody tr th {\n",
       "        vertical-align: top;\n",
       "    }\n",
       "\n",
       "    .dataframe thead th {\n",
       "        text-align: right;\n",
       "    }\n",
       "</style>\n",
       "<table border=\"1\" class=\"dataframe\">\n",
       "  <thead>\n",
       "    <tr style=\"text-align: right;\">\n",
       "      <th></th>\n",
       "      <th>productId</th>\n",
       "      <th>productName</th>\n",
       "      <th>description</th>\n",
       "      <th>brand</th>\n",
       "      <th>category</th>\n",
       "      <th>price</th>\n",
       "      <th>currency</th>\n",
       "      <th>images</th>\n",
       "      <th>variants</th>\n",
       "      <th>reviews</th>\n",
       "      <th>stock.available</th>\n",
       "      <th>stock.quantity</th>\n",
       "      <th>dimensions.weight</th>\n",
       "      <th>dimensions.width</th>\n",
       "      <th>dimensions.height</th>\n",
       "      <th>dimensions.depth</th>\n",
       "      <th>ratings.averageRating</th>\n",
       "      <th>ratings.numberOfReviews</th>\n",
       "      <th>num_images</th>\n",
       "      <th>num_variants</th>\n",
       "    </tr>\n",
       "  </thead>\n",
       "  <tbody>\n",
       "    <tr>\n",
       "      <th>0</th>\n",
       "      <td>1001</td>\n",
       "      <td>Wireless Headphones</td>\n",
       "      <td>Noise-cancelling wireless headphones with Blue...</td>\n",
       "      <td>SoundPro</td>\n",
       "      <td>Electronics</td>\n",
       "      <td>199.99</td>\n",
       "      <td>USD</td>\n",
       "      <td>[https://example.com/products/1001/main.jpg, h...</td>\n",
       "      <td>[{'variantId': '1001_01', 'color': 'Black', 'p...</td>\n",
       "      <td>[{'reviewId': 501, 'userId': 101, 'username': ...</td>\n",
       "      <td>True</td>\n",
       "      <td>50</td>\n",
       "      <td>0.5</td>\n",
       "      <td>18</td>\n",
       "      <td>20</td>\n",
       "      <td>8</td>\n",
       "      <td>4.7</td>\n",
       "      <td>120</td>\n",
       "      <td>2</td>\n",
       "      <td>2</td>\n",
       "    </tr>\n",
       "    <tr>\n",
       "      <th>1</th>\n",
       "      <td>1002</td>\n",
       "      <td>Smartphone Case</td>\n",
       "      <td>Durable and shockproof case for smartphones, a...</td>\n",
       "      <td>CaseMate</td>\n",
       "      <td>Accessories</td>\n",
       "      <td>29.99</td>\n",
       "      <td>USD</td>\n",
       "      <td>[https://example.com/products/1002/main.jpg, h...</td>\n",
       "      <td>[{'variantId': '1002_01', 'color': 'Black', 'p...</td>\n",
       "      <td>[{'reviewId': 601, 'userId': 103, 'username': ...</td>\n",
       "      <td>True</td>\n",
       "      <td>200</td>\n",
       "      <td>0.2</td>\n",
       "      <td>8</td>\n",
       "      <td>15</td>\n",
       "      <td>1</td>\n",
       "      <td>4.4</td>\n",
       "      <td>80</td>\n",
       "      <td>2</td>\n",
       "      <td>2</td>\n",
       "    </tr>\n",
       "    <tr>\n",
       "      <th>2</th>\n",
       "      <td>1003</td>\n",
       "      <td>4K Ultra HD Smart TV</td>\n",
       "      <td>55-inch 4K Ultra HD Smart TV with built-in Wi-...</td>\n",
       "      <td>Visionary</td>\n",
       "      <td>Electronics</td>\n",
       "      <td>799.99</td>\n",
       "      <td>USD</td>\n",
       "      <td>[https://example.com/products/1003/main.jpg, h...</td>\n",
       "      <td>[{'variantId': '1003_01', 'screenSize': '55 in...</td>\n",
       "      <td>[{'reviewId': 701, 'userId': 105, 'username': ...</td>\n",
       "      <td>True</td>\n",
       "      <td>30</td>\n",
       "      <td>15.0</td>\n",
       "      <td>123</td>\n",
       "      <td>80</td>\n",
       "      <td>10</td>\n",
       "      <td>4.8</td>\n",
       "      <td>250</td>\n",
       "      <td>2</td>\n",
       "      <td>1</td>\n",
       "    </tr>\n",
       "    <tr>\n",
       "      <th>3</th>\n",
       "      <td>1004</td>\n",
       "      <td>Bluetooth Speaker</td>\n",
       "      <td>Portable Bluetooth speaker with 12-hour batter...</td>\n",
       "      <td>AudioX</td>\n",
       "      <td>Electronics</td>\n",
       "      <td>59.99</td>\n",
       "      <td>USD</td>\n",
       "      <td>[https://example.com/products/1004/main.jpg, h...</td>\n",
       "      <td>[{'variantId': '1004_01', 'color': 'Red', 'pri...</td>\n",
       "      <td>[{'reviewId': 801, 'userId': 107, 'username': ...</td>\n",
       "      <td>True</td>\n",
       "      <td>100</td>\n",
       "      <td>0.3</td>\n",
       "      <td>15</td>\n",
       "      <td>8</td>\n",
       "      <td>5</td>\n",
       "      <td>4.6</td>\n",
       "      <td>150</td>\n",
       "      <td>2</td>\n",
       "      <td>2</td>\n",
       "    </tr>\n",
       "    <tr>\n",
       "      <th>4</th>\n",
       "      <td>1005</td>\n",
       "      <td>Winter Jacket</td>\n",
       "      <td>Men's water-resistant winter jacket with a fur...</td>\n",
       "      <td>ColdTech</td>\n",
       "      <td>Clothing</td>\n",
       "      <td>129.99</td>\n",
       "      <td>USD</td>\n",
       "      <td>[https://example.com/products/1005/main.jpg, h...</td>\n",
       "      <td>[{'variantId': '1005_01', 'size': 'M', 'color'...</td>\n",
       "      <td>[{'reviewId': 901, 'userId': 109, 'username': ...</td>\n",
       "      <td>True</td>\n",
       "      <td>80</td>\n",
       "      <td>1.5</td>\n",
       "      <td>60</td>\n",
       "      <td>85</td>\n",
       "      <td>5</td>\n",
       "      <td>4.5</td>\n",
       "      <td>60</td>\n",
       "      <td>2</td>\n",
       "      <td>2</td>\n",
       "    </tr>\n",
       "  </tbody>\n",
       "</table>\n",
       "</div>"
      ],
      "text/plain": [
       "   productId           productName  \\\n",
       "0       1001   Wireless Headphones   \n",
       "1       1002       Smartphone Case   \n",
       "2       1003  4K Ultra HD Smart TV   \n",
       "3       1004     Bluetooth Speaker   \n",
       "4       1005         Winter Jacket   \n",
       "\n",
       "                                         description      brand     category  \\\n",
       "0  Noise-cancelling wireless headphones with Blue...   SoundPro  Electronics   \n",
       "1  Durable and shockproof case for smartphones, a...   CaseMate  Accessories   \n",
       "2  55-inch 4K Ultra HD Smart TV with built-in Wi-...  Visionary  Electronics   \n",
       "3  Portable Bluetooth speaker with 12-hour batter...     AudioX  Electronics   \n",
       "4  Men's water-resistant winter jacket with a fur...   ColdTech     Clothing   \n",
       "\n",
       "    price currency                                             images  \\\n",
       "0  199.99      USD  [https://example.com/products/1001/main.jpg, h...   \n",
       "1   29.99      USD  [https://example.com/products/1002/main.jpg, h...   \n",
       "2  799.99      USD  [https://example.com/products/1003/main.jpg, h...   \n",
       "3   59.99      USD  [https://example.com/products/1004/main.jpg, h...   \n",
       "4  129.99      USD  [https://example.com/products/1005/main.jpg, h...   \n",
       "\n",
       "                                            variants  \\\n",
       "0  [{'variantId': '1001_01', 'color': 'Black', 'p...   \n",
       "1  [{'variantId': '1002_01', 'color': 'Black', 'p...   \n",
       "2  [{'variantId': '1003_01', 'screenSize': '55 in...   \n",
       "3  [{'variantId': '1004_01', 'color': 'Red', 'pri...   \n",
       "4  [{'variantId': '1005_01', 'size': 'M', 'color'...   \n",
       "\n",
       "                                             reviews  stock.available  \\\n",
       "0  [{'reviewId': 501, 'userId': 101, 'username': ...             True   \n",
       "1  [{'reviewId': 601, 'userId': 103, 'username': ...             True   \n",
       "2  [{'reviewId': 701, 'userId': 105, 'username': ...             True   \n",
       "3  [{'reviewId': 801, 'userId': 107, 'username': ...             True   \n",
       "4  [{'reviewId': 901, 'userId': 109, 'username': ...             True   \n",
       "\n",
       "   stock.quantity  dimensions.weight  dimensions.width  dimensions.height  \\\n",
       "0              50                0.5                18                 20   \n",
       "1             200                0.2                 8                 15   \n",
       "2              30               15.0               123                 80   \n",
       "3             100                0.3                15                  8   \n",
       "4              80                1.5                60                 85   \n",
       "\n",
       "   dimensions.depth  ratings.averageRating  ratings.numberOfReviews  \\\n",
       "0                 8                    4.7                      120   \n",
       "1                 1                    4.4                       80   \n",
       "2                10                    4.8                      250   \n",
       "3                 5                    4.6                      150   \n",
       "4                 5                    4.5                       60   \n",
       "\n",
       "   num_images  num_variants  \n",
       "0           2             2  \n",
       "1           2             2  \n",
       "2           2             1  \n",
       "3           2             2  \n",
       "4           2             2  "
      ]
     },
     "execution_count": 62,
     "metadata": {},
     "output_type": "execute_result"
    }
   ],
   "source": [
    "df"
   ]
  },
  {
   "cell_type": "code",
   "execution_count": 63,
   "id": "36a6ee29-1729-4e72-b13a-9a5a4b440b69",
   "metadata": {},
   "outputs": [],
   "source": [
    "df['num_reviews'] = df['reviews'].apply(lambda x: len(x) if isinstance(x, list) else 0)"
   ]
  },
  {
   "cell_type": "code",
   "execution_count": 64,
   "id": "b65e9f60-9ec3-4635-97d3-3d921e6b769d",
   "metadata": {},
   "outputs": [
    {
     "data": {
      "text/html": [
       "<div>\n",
       "<style scoped>\n",
       "    .dataframe tbody tr th:only-of-type {\n",
       "        vertical-align: middle;\n",
       "    }\n",
       "\n",
       "    .dataframe tbody tr th {\n",
       "        vertical-align: top;\n",
       "    }\n",
       "\n",
       "    .dataframe thead th {\n",
       "        text-align: right;\n",
       "    }\n",
       "</style>\n",
       "<table border=\"1\" class=\"dataframe\">\n",
       "  <thead>\n",
       "    <tr style=\"text-align: right;\">\n",
       "      <th></th>\n",
       "      <th>productId</th>\n",
       "      <th>productName</th>\n",
       "      <th>description</th>\n",
       "      <th>brand</th>\n",
       "      <th>category</th>\n",
       "      <th>price</th>\n",
       "      <th>currency</th>\n",
       "      <th>images</th>\n",
       "      <th>variants</th>\n",
       "      <th>reviews</th>\n",
       "      <th>...</th>\n",
       "      <th>stock.quantity</th>\n",
       "      <th>dimensions.weight</th>\n",
       "      <th>dimensions.width</th>\n",
       "      <th>dimensions.height</th>\n",
       "      <th>dimensions.depth</th>\n",
       "      <th>ratings.averageRating</th>\n",
       "      <th>ratings.numberOfReviews</th>\n",
       "      <th>num_images</th>\n",
       "      <th>num_variants</th>\n",
       "      <th>num_reviews</th>\n",
       "    </tr>\n",
       "  </thead>\n",
       "  <tbody>\n",
       "    <tr>\n",
       "      <th>0</th>\n",
       "      <td>1001</td>\n",
       "      <td>Wireless Headphones</td>\n",
       "      <td>Noise-cancelling wireless headphones with Blue...</td>\n",
       "      <td>SoundPro</td>\n",
       "      <td>Electronics</td>\n",
       "      <td>199.99</td>\n",
       "      <td>USD</td>\n",
       "      <td>[https://example.com/products/1001/main.jpg, h...</td>\n",
       "      <td>[{'variantId': '1001_01', 'color': 'Black', 'p...</td>\n",
       "      <td>[{'reviewId': 501, 'userId': 101, 'username': ...</td>\n",
       "      <td>...</td>\n",
       "      <td>50</td>\n",
       "      <td>0.5</td>\n",
       "      <td>18</td>\n",
       "      <td>20</td>\n",
       "      <td>8</td>\n",
       "      <td>4.7</td>\n",
       "      <td>120</td>\n",
       "      <td>2</td>\n",
       "      <td>2</td>\n",
       "      <td>2</td>\n",
       "    </tr>\n",
       "    <tr>\n",
       "      <th>1</th>\n",
       "      <td>1002</td>\n",
       "      <td>Smartphone Case</td>\n",
       "      <td>Durable and shockproof case for smartphones, a...</td>\n",
       "      <td>CaseMate</td>\n",
       "      <td>Accessories</td>\n",
       "      <td>29.99</td>\n",
       "      <td>USD</td>\n",
       "      <td>[https://example.com/products/1002/main.jpg, h...</td>\n",
       "      <td>[{'variantId': '1002_01', 'color': 'Black', 'p...</td>\n",
       "      <td>[{'reviewId': 601, 'userId': 103, 'username': ...</td>\n",
       "      <td>...</td>\n",
       "      <td>200</td>\n",
       "      <td>0.2</td>\n",
       "      <td>8</td>\n",
       "      <td>15</td>\n",
       "      <td>1</td>\n",
       "      <td>4.4</td>\n",
       "      <td>80</td>\n",
       "      <td>2</td>\n",
       "      <td>2</td>\n",
       "      <td>2</td>\n",
       "    </tr>\n",
       "    <tr>\n",
       "      <th>2</th>\n",
       "      <td>1003</td>\n",
       "      <td>4K Ultra HD Smart TV</td>\n",
       "      <td>55-inch 4K Ultra HD Smart TV with built-in Wi-...</td>\n",
       "      <td>Visionary</td>\n",
       "      <td>Electronics</td>\n",
       "      <td>799.99</td>\n",
       "      <td>USD</td>\n",
       "      <td>[https://example.com/products/1003/main.jpg, h...</td>\n",
       "      <td>[{'variantId': '1003_01', 'screenSize': '55 in...</td>\n",
       "      <td>[{'reviewId': 701, 'userId': 105, 'username': ...</td>\n",
       "      <td>...</td>\n",
       "      <td>30</td>\n",
       "      <td>15.0</td>\n",
       "      <td>123</td>\n",
       "      <td>80</td>\n",
       "      <td>10</td>\n",
       "      <td>4.8</td>\n",
       "      <td>250</td>\n",
       "      <td>2</td>\n",
       "      <td>1</td>\n",
       "      <td>2</td>\n",
       "    </tr>\n",
       "    <tr>\n",
       "      <th>3</th>\n",
       "      <td>1004</td>\n",
       "      <td>Bluetooth Speaker</td>\n",
       "      <td>Portable Bluetooth speaker with 12-hour batter...</td>\n",
       "      <td>AudioX</td>\n",
       "      <td>Electronics</td>\n",
       "      <td>59.99</td>\n",
       "      <td>USD</td>\n",
       "      <td>[https://example.com/products/1004/main.jpg, h...</td>\n",
       "      <td>[{'variantId': '1004_01', 'color': 'Red', 'pri...</td>\n",
       "      <td>[{'reviewId': 801, 'userId': 107, 'username': ...</td>\n",
       "      <td>...</td>\n",
       "      <td>100</td>\n",
       "      <td>0.3</td>\n",
       "      <td>15</td>\n",
       "      <td>8</td>\n",
       "      <td>5</td>\n",
       "      <td>4.6</td>\n",
       "      <td>150</td>\n",
       "      <td>2</td>\n",
       "      <td>2</td>\n",
       "      <td>2</td>\n",
       "    </tr>\n",
       "    <tr>\n",
       "      <th>4</th>\n",
       "      <td>1005</td>\n",
       "      <td>Winter Jacket</td>\n",
       "      <td>Men's water-resistant winter jacket with a fur...</td>\n",
       "      <td>ColdTech</td>\n",
       "      <td>Clothing</td>\n",
       "      <td>129.99</td>\n",
       "      <td>USD</td>\n",
       "      <td>[https://example.com/products/1005/main.jpg, h...</td>\n",
       "      <td>[{'variantId': '1005_01', 'size': 'M', 'color'...</td>\n",
       "      <td>[{'reviewId': 901, 'userId': 109, 'username': ...</td>\n",
       "      <td>...</td>\n",
       "      <td>80</td>\n",
       "      <td>1.5</td>\n",
       "      <td>60</td>\n",
       "      <td>85</td>\n",
       "      <td>5</td>\n",
       "      <td>4.5</td>\n",
       "      <td>60</td>\n",
       "      <td>2</td>\n",
       "      <td>2</td>\n",
       "      <td>2</td>\n",
       "    </tr>\n",
       "  </tbody>\n",
       "</table>\n",
       "<p>5 rows × 21 columns</p>\n",
       "</div>"
      ],
      "text/plain": [
       "   productId           productName  \\\n",
       "0       1001   Wireless Headphones   \n",
       "1       1002       Smartphone Case   \n",
       "2       1003  4K Ultra HD Smart TV   \n",
       "3       1004     Bluetooth Speaker   \n",
       "4       1005         Winter Jacket   \n",
       "\n",
       "                                         description      brand     category  \\\n",
       "0  Noise-cancelling wireless headphones with Blue...   SoundPro  Electronics   \n",
       "1  Durable and shockproof case for smartphones, a...   CaseMate  Accessories   \n",
       "2  55-inch 4K Ultra HD Smart TV with built-in Wi-...  Visionary  Electronics   \n",
       "3  Portable Bluetooth speaker with 12-hour batter...     AudioX  Electronics   \n",
       "4  Men's water-resistant winter jacket with a fur...   ColdTech     Clothing   \n",
       "\n",
       "    price currency                                             images  \\\n",
       "0  199.99      USD  [https://example.com/products/1001/main.jpg, h...   \n",
       "1   29.99      USD  [https://example.com/products/1002/main.jpg, h...   \n",
       "2  799.99      USD  [https://example.com/products/1003/main.jpg, h...   \n",
       "3   59.99      USD  [https://example.com/products/1004/main.jpg, h...   \n",
       "4  129.99      USD  [https://example.com/products/1005/main.jpg, h...   \n",
       "\n",
       "                                            variants  \\\n",
       "0  [{'variantId': '1001_01', 'color': 'Black', 'p...   \n",
       "1  [{'variantId': '1002_01', 'color': 'Black', 'p...   \n",
       "2  [{'variantId': '1003_01', 'screenSize': '55 in...   \n",
       "3  [{'variantId': '1004_01', 'color': 'Red', 'pri...   \n",
       "4  [{'variantId': '1005_01', 'size': 'M', 'color'...   \n",
       "\n",
       "                                             reviews  ...  stock.quantity  \\\n",
       "0  [{'reviewId': 501, 'userId': 101, 'username': ...  ...              50   \n",
       "1  [{'reviewId': 601, 'userId': 103, 'username': ...  ...             200   \n",
       "2  [{'reviewId': 701, 'userId': 105, 'username': ...  ...              30   \n",
       "3  [{'reviewId': 801, 'userId': 107, 'username': ...  ...             100   \n",
       "4  [{'reviewId': 901, 'userId': 109, 'username': ...  ...              80   \n",
       "\n",
       "   dimensions.weight  dimensions.width  dimensions.height  dimensions.depth  \\\n",
       "0                0.5                18                 20                 8   \n",
       "1                0.2                 8                 15                 1   \n",
       "2               15.0               123                 80                10   \n",
       "3                0.3                15                  8                 5   \n",
       "4                1.5                60                 85                 5   \n",
       "\n",
       "   ratings.averageRating  ratings.numberOfReviews  num_images  num_variants  \\\n",
       "0                    4.7                      120           2             2   \n",
       "1                    4.4                       80           2             2   \n",
       "2                    4.8                      250           2             1   \n",
       "3                    4.6                      150           2             2   \n",
       "4                    4.5                       60           2             2   \n",
       "\n",
       "   num_reviews  \n",
       "0            2  \n",
       "1            2  \n",
       "2            2  \n",
       "3            2  \n",
       "4            2  \n",
       "\n",
       "[5 rows x 21 columns]"
      ]
     },
     "execution_count": 64,
     "metadata": {},
     "output_type": "execute_result"
    }
   ],
   "source": [
    "df"
   ]
  },
  {
   "cell_type": "code",
   "execution_count": 65,
   "id": "e441bfe7-f0f2-4b89-a508-cea1743fd250",
   "metadata": {},
   "outputs": [],
   "source": [
    "data_basic_xml=pd.read_xml(\"C:\\\\Users\\\\user\\\\Downloads\\\\basic_xml.xml\")"
   ]
  },
  {
   "cell_type": "code",
   "execution_count": 66,
   "id": "895362b2-461f-4f80-89d5-722dcde67ab0",
   "metadata": {},
   "outputs": [
    {
     "data": {
      "text/html": [
       "<div>\n",
       "<style scoped>\n",
       "    .dataframe tbody tr th:only-of-type {\n",
       "        vertical-align: middle;\n",
       "    }\n",
       "\n",
       "    .dataframe tbody tr th {\n",
       "        vertical-align: top;\n",
       "    }\n",
       "\n",
       "    .dataframe thead th {\n",
       "        text-align: right;\n",
       "    }\n",
       "</style>\n",
       "<table border=\"1\" class=\"dataframe\">\n",
       "  <thead>\n",
       "    <tr style=\"text-align: right;\">\n",
       "      <th></th>\n",
       "      <th>name</th>\n",
       "      <th>age</th>\n",
       "      <th>city</th>\n",
       "    </tr>\n",
       "  </thead>\n",
       "  <tbody>\n",
       "    <tr>\n",
       "      <th>0</th>\n",
       "      <td>John</td>\n",
       "      <td>30</td>\n",
       "      <td>New York</td>\n",
       "    </tr>\n",
       "    <tr>\n",
       "      <th>1</th>\n",
       "      <td>Anna</td>\n",
       "      <td>25</td>\n",
       "      <td>Paris</td>\n",
       "    </tr>\n",
       "  </tbody>\n",
       "</table>\n",
       "</div>"
      ],
      "text/plain": [
       "   name  age      city\n",
       "0  John   30  New York\n",
       "1  Anna   25     Paris"
      ]
     },
     "execution_count": 66,
     "metadata": {},
     "output_type": "execute_result"
    }
   ],
   "source": [
    "data_basic_xml"
   ]
  },
  {
   "cell_type": "code",
   "execution_count": 68,
   "id": "2d3940a5-b98c-4adb-8b6e-85eba17a3504",
   "metadata": {},
   "outputs": [
    {
     "data": {
      "text/html": [
       "<div>\n",
       "<style scoped>\n",
       "    .dataframe tbody tr th:only-of-type {\n",
       "        vertical-align: middle;\n",
       "    }\n",
       "\n",
       "    .dataframe tbody tr th {\n",
       "        vertical-align: top;\n",
       "    }\n",
       "\n",
       "    .dataframe thead th {\n",
       "        text-align: right;\n",
       "    }\n",
       "</style>\n",
       "<table border=\"1\" class=\"dataframe\">\n",
       "  <thead>\n",
       "    <tr style=\"text-align: right;\">\n",
       "      <th></th>\n",
       "      <th>name</th>\n",
       "      <th>age</th>\n",
       "    </tr>\n",
       "  </thead>\n",
       "  <tbody>\n",
       "    <tr>\n",
       "      <th>0</th>\n",
       "      <td>John</td>\n",
       "      <td>30</td>\n",
       "    </tr>\n",
       "    <tr>\n",
       "      <th>1</th>\n",
       "      <td>Anna</td>\n",
       "      <td>25</td>\n",
       "    </tr>\n",
       "  </tbody>\n",
       "</table>\n",
       "</div>"
      ],
      "text/plain": [
       "   name  age\n",
       "0  John   30\n",
       "1  Anna   25"
      ]
     },
     "execution_count": 68,
     "metadata": {},
     "output_type": "execute_result"
    }
   ],
   "source": [
    "data_complex_xml=pd.read_xml(\"C:\\\\Users\\\\user\\\\Downloads\\\\complex_xml_structures.xml\", xpath='.//person')\n",
    "data_complex_xml"
   ]
  },
  {
   "cell_type": "code",
   "execution_count": 70,
   "id": "9f3f0322-e03a-48a2-9c6e-42f47c0ba835",
   "metadata": {},
   "outputs": [
    {
     "name": "stdout",
     "output_type": "stream",
     "text": [
      "   name  age\n",
      "0  John   30\n",
      "1  Anna   25\n"
     ]
    }
   ],
   "source": [
    "namespaces = {'ns': 'http://www.example.com'}\n",
    "dataframe=pd.read_xml('C:\\\\Users\\\\user\\\\Downloads\\\\xml_namespace.xml',namespaces=namespaces, xpath='.//ns:person')\n",
    "print(dataframe)"
   ]
  },
  {
   "cell_type": "code",
   "execution_count": 71,
   "id": "fba3ee13-fca3-4779-b8c3-3cc24cdb1340",
   "metadata": {},
   "outputs": [
    {
     "data": {
      "text/html": [
       "<div>\n",
       "<style scoped>\n",
       "    .dataframe tbody tr th:only-of-type {\n",
       "        vertical-align: middle;\n",
       "    }\n",
       "\n",
       "    .dataframe tbody tr th {\n",
       "        vertical-align: top;\n",
       "    }\n",
       "\n",
       "    .dataframe thead th {\n",
       "        text-align: right;\n",
       "    }\n",
       "</style>\n",
       "<table border=\"1\" class=\"dataframe\">\n",
       "  <thead>\n",
       "    <tr style=\"text-align: right;\">\n",
       "      <th></th>\n",
       "      <th>first_name</th>\n",
       "      <th>last_name</th>\n",
       "    </tr>\n",
       "  </thead>\n",
       "  <tbody>\n",
       "    <tr>\n",
       "      <th>0</th>\n",
       "      <td>Sarah</td>\n",
       "      <td>Connor</td>\n",
       "    </tr>\n",
       "    <tr>\n",
       "      <th>1</th>\n",
       "      <td>John</td>\n",
       "      <td>Connor</td>\n",
       "    </tr>\n",
       "    <tr>\n",
       "      <th>3</th>\n",
       "      <td>Joe</td>\n",
       "      <td>Bonnot</td>\n",
       "    </tr>\n",
       "  </tbody>\n",
       "</table>\n",
       "</div>"
      ],
      "text/plain": [
       "  first_name last_name\n",
       "0      Sarah    Connor\n",
       "1       John    Connor\n",
       "3        Joe    Bonnot"
      ]
     },
     "execution_count": 71,
     "metadata": {},
     "output_type": "execute_result"
    }
   ],
   "source": [
    "import pandas as pd\n",
    "df= pd.DataFrame({\n",
    "    'first_name':['Sarah','John','Kyle','Joe'],\n",
    "    'last_name':['Connor','Connor','Reese','Bonnot'],\n",
    "})\n",
    "df[df.last_name.str.match('.*onno.*')]"
   ]
  },
  {
   "cell_type": "code",
   "execution_count": 72,
   "id": "cc0d9a63-932c-40fb-acd3-367cffd0f5af",
   "metadata": {},
   "outputs": [
    {
     "data": {
      "text/html": [
       "<div>\n",
       "<style scoped>\n",
       "    .dataframe tbody tr th:only-of-type {\n",
       "        vertical-align: middle;\n",
       "    }\n",
       "\n",
       "    .dataframe tbody tr th {\n",
       "        vertical-align: top;\n",
       "    }\n",
       "\n",
       "    .dataframe thead th {\n",
       "        text-align: right;\n",
       "    }\n",
       "</style>\n",
       "<table border=\"1\" class=\"dataframe\">\n",
       "  <thead>\n",
       "    <tr style=\"text-align: right;\">\n",
       "      <th></th>\n",
       "      <th>first_name</th>\n",
       "      <th>last_name</th>\n",
       "    </tr>\n",
       "  </thead>\n",
       "  <tbody>\n",
       "    <tr>\n",
       "      <th>0</th>\n",
       "      <td>Sarah</td>\n",
       "      <td>Connor</td>\n",
       "    </tr>\n",
       "    <tr>\n",
       "      <th>1</th>\n",
       "      <td>John</td>\n",
       "      <td>Connor</td>\n",
       "    </tr>\n",
       "  </tbody>\n",
       "</table>\n",
       "</div>"
      ],
      "text/plain": [
       "  first_name last_name\n",
       "0      Sarah    Connor\n",
       "1       John    Connor"
      ]
     },
     "execution_count": 72,
     "metadata": {},
     "output_type": "execute_result"
    }
   ],
   "source": [
    "import pandas as pd\n",
    "df= pd.DataFrame({\n",
    "    'first_name':['Sarah','John','Kyle','Joe'],\n",
    "    'last_name':['Connor','Connor','Reese','Bonnot'],\n",
    "})\n",
    "foo='Connor'\n",
    "df.query('last_name == @foo')"
   ]
  },
  {
   "cell_type": "code",
   "execution_count": 75,
   "id": "324922ee-abf2-4f1a-be98-ebe9dc0a44bb",
   "metadata": {},
   "outputs": [
    {
     "data": {
      "text/html": [
       "<div>\n",
       "<style scoped>\n",
       "    .dataframe tbody tr th:only-of-type {\n",
       "        vertical-align: middle;\n",
       "    }\n",
       "\n",
       "    .dataframe tbody tr th {\n",
       "        vertical-align: top;\n",
       "    }\n",
       "\n",
       "    .dataframe thead th {\n",
       "        text-align: right;\n",
       "    }\n",
       "</style>\n",
       "<table border=\"1\" class=\"dataframe\">\n",
       "  <thead>\n",
       "    <tr style=\"text-align: right;\">\n",
       "      <th></th>\n",
       "      <th>first_name</th>\n",
       "      <th>last_name</th>\n",
       "    </tr>\n",
       "  </thead>\n",
       "  <tbody>\n",
       "    <tr>\n",
       "      <th>1</th>\n",
       "      <td>John</td>\n",
       "      <td>Connor</td>\n",
       "    </tr>\n",
       "  </tbody>\n",
       "</table>\n",
       "</div>"
      ],
      "text/plain": [
       "  first_name last_name\n",
       "1       John    Connor"
      ]
     },
     "execution_count": 75,
     "metadata": {},
     "output_type": "execute_result"
    }
   ],
   "source": [
    "df= pd.DataFrame({\n",
    "    'first_name':['Sarah','John','Kyle','Joe'],\n",
    "    'last_name':['Connor','Connor','Reese','Bonnot'],\n",
    "})\n",
    "column_name='first_name'\n",
    "df.query(f\"{column_name} == 'John'\")"
   ]
  },
  {
   "cell_type": "code",
   "execution_count": 76,
   "id": "3e40c8f9-5bf9-4438-bd31-4e08867a7dfe",
   "metadata": {},
   "outputs": [
    {
     "data": {
      "text/html": [
       "<div>\n",
       "<style scoped>\n",
       "    .dataframe tbody tr th:only-of-type {\n",
       "        vertical-align: middle;\n",
       "    }\n",
       "\n",
       "    .dataframe tbody tr th {\n",
       "        vertical-align: top;\n",
       "    }\n",
       "\n",
       "    .dataframe thead th {\n",
       "        text-align: right;\n",
       "    }\n",
       "</style>\n",
       "<table border=\"1\" class=\"dataframe\">\n",
       "  <thead>\n",
       "    <tr style=\"text-align: right;\">\n",
       "      <th></th>\n",
       "      <th>time</th>\n",
       "      <th>letter</th>\n",
       "    </tr>\n",
       "  </thead>\n",
       "  <tbody>\n",
       "    <tr>\n",
       "      <th>1</th>\n",
       "      <td>2022-09-14 00:52:30-07:00</td>\n",
       "      <td>B</td>\n",
       "    </tr>\n",
       "    <tr>\n",
       "      <th>2</th>\n",
       "      <td>2022-09-14 01:52:30-07:00</td>\n",
       "      <td>C</td>\n",
       "    </tr>\n",
       "  </tbody>\n",
       "</table>\n",
       "</div>"
      ],
      "text/plain": [
       "                       time letter\n",
       "1 2022-09-14 00:52:30-07:00      B\n",
       "2 2022-09-14 01:52:30-07:00      C"
      ]
     },
     "execution_count": 76,
     "metadata": {},
     "output_type": "execute_result"
    }
   ],
   "source": [
    "df = pd.DataFrame({\n",
    "  'time': ['2022-09-14 00:52:00-07:00', '2022-09-14 00:52:30-07:00',\n",
    "           '2022-09-14 01:52:30-07:00'],\n",
    "  'letter': ['A', 'B', 'C'],\n",
    "})\n",
    "df['time'] = pd.to_datetime(df.time)\n",
    " \n",
    "df.query('time >= \"2022-09-14 00:52:30-07:00\"')"
   ]
  },
  {
   "cell_type": "code",
   "execution_count": 80,
   "id": "883c9a4e-bc48-49ea-a13b-215fd635d494",
   "metadata": {},
   "outputs": [
    {
     "data": {
      "text/html": [
       "<div>\n",
       "<style scoped>\n",
       "    .dataframe tbody tr th:only-of-type {\n",
       "        vertical-align: middle;\n",
       "    }\n",
       "\n",
       "    .dataframe tbody tr th {\n",
       "        vertical-align: top;\n",
       "    }\n",
       "\n",
       "    .dataframe thead th {\n",
       "        text-align: right;\n",
       "    }\n",
       "</style>\n",
       "<table border=\"1\" class=\"dataframe\">\n",
       "  <thead>\n",
       "    <tr style=\"text-align: right;\">\n",
       "      <th></th>\n",
       "      <th>time</th>\n",
       "      <th>letter</th>\n",
       "    </tr>\n",
       "  </thead>\n",
       "  <tbody>\n",
       "    <tr>\n",
       "      <th>0</th>\n",
       "      <td>2022-09-14 00:52:00-07:00</td>\n",
       "      <td>A</td>\n",
       "    </tr>\n",
       "    <tr>\n",
       "      <th>1</th>\n",
       "      <td>2022-09-14 00:52:30-07:00</td>\n",
       "      <td>B</td>\n",
       "    </tr>\n",
       "  </tbody>\n",
       "</table>\n",
       "</div>"
      ],
      "text/plain": [
       "                       time letter\n",
       "0 2022-09-14 00:52:00-07:00      A\n",
       "1 2022-09-14 00:52:30-07:00      B"
      ]
     },
     "execution_count": 80,
     "metadata": {},
     "output_type": "execute_result"
    }
   ],
   "source": [
    "begin_ts='2022-09-14 00:52:00-07:00'\n",
    "end_ts='2022-09-14 00:54:00-07:00'\n",
    "df.query(\"@begin_ts <=time<@end_ts\")"
   ]
  },
  {
   "cell_type": "code",
   "execution_count": 82,
   "id": "4bd1450a-5eab-4eda-bd90-e1585933a9a3",
   "metadata": {},
   "outputs": [
    {
     "data": {
      "text/html": [
       "<div>\n",
       "<style scoped>\n",
       "    .dataframe tbody tr th:only-of-type {\n",
       "        vertical-align: middle;\n",
       "    }\n",
       "\n",
       "    .dataframe tbody tr th {\n",
       "        vertical-align: top;\n",
       "    }\n",
       "\n",
       "    .dataframe thead th {\n",
       "        text-align: right;\n",
       "    }\n",
       "</style>\n",
       "<table border=\"1\" class=\"dataframe\">\n",
       "  <thead>\n",
       "    <tr style=\"text-align: right;\">\n",
       "      <th></th>\n",
       "      <th>time</th>\n",
       "      <th>letter</th>\n",
       "    </tr>\n",
       "  </thead>\n",
       "  <tbody>\n",
       "    <tr>\n",
       "      <th>0</th>\n",
       "      <td>2022-09-14 00:52:00-07:00</td>\n",
       "      <td>A</td>\n",
       "    </tr>\n",
       "    <tr>\n",
       "      <th>1</th>\n",
       "      <td>2022-09-14 00:52:30-07:00</td>\n",
       "      <td>B</td>\n",
       "    </tr>\n",
       "  </tbody>\n",
       "</table>\n",
       "</div>"
      ],
      "text/plain": [
       "                       time letter\n",
       "0 2022-09-14 00:52:00-07:00      A\n",
       "1 2022-09-14 00:52:30-07:00      B"
      ]
     },
     "execution_count": 82,
     "metadata": {},
     "output_type": "execute_result"
    }
   ],
   "source": [
    "df = pd.DataFrame({\n",
    "  'time': ['2022-09-14 00:52:00-07:00', '2022-09-14 00:52:30-07:00',\n",
    "           '2022-09-14 01:52:30-07:00'],\n",
    "  'letter': ['A', 'B', 'C'],\n",
    "})\n",
    "df['time'] = pd.to_datetime(df.time)\n",
    "\n",
    "def rows_in_time_range(df, time_column, start_ts_str, timedelta_str):\n",
    "    start_ts=pd.Timestamp(start_ts_str).tz_localize('US/Pacific')\n",
    "    end_ts = start_ts + pd.to_timedelta(timedelta_str)\n",
    "    return df.query(\"@start_ts <= {0} < @end_ts\".format(time_column))\n",
    "\n",
    "rows_in_time_range(df,'time','2022-09-14 00:00', '52 minutes 31 seconds')"
   ]
  },
  {
   "cell_type": "code",
   "execution_count": 85,
   "id": "30e5e50c-5230-41f9-9e99-fd752cf4b56c",
   "metadata": {},
   "outputs": [
    {
     "name": "stdout",
     "output_type": "stream",
     "text": [
      "         date letter                                          dict\n",
      "0  2022-09-14      A         {'fruit': 'apple', 'weather': 'aces'}\n",
      "1  2022-09-15      B         {'fruit': 'banana', 'weather': 'bad'}\n",
      "2  2022-09-16      C  {'fruit': 'cantaloupe', 'weather': 'cloudy'}\n"
     ]
    },
    {
     "data": {
      "text/html": [
       "<div>\n",
       "<style scoped>\n",
       "    .dataframe tbody tr th:only-of-type {\n",
       "        vertical-align: middle;\n",
       "    }\n",
       "\n",
       "    .dataframe tbody tr th {\n",
       "        vertical-align: top;\n",
       "    }\n",
       "\n",
       "    .dataframe thead th {\n",
       "        text-align: right;\n",
       "    }\n",
       "</style>\n",
       "<table border=\"1\" class=\"dataframe\">\n",
       "  <thead>\n",
       "    <tr style=\"text-align: right;\">\n",
       "      <th></th>\n",
       "      <th>date</th>\n",
       "      <th>letter</th>\n",
       "      <th>fruit</th>\n",
       "      <th>weather</th>\n",
       "    </tr>\n",
       "  </thead>\n",
       "  <tbody>\n",
       "    <tr>\n",
       "      <th>0</th>\n",
       "      <td>2022-09-14</td>\n",
       "      <td>A</td>\n",
       "      <td>apple</td>\n",
       "      <td>aces</td>\n",
       "    </tr>\n",
       "    <tr>\n",
       "      <th>1</th>\n",
       "      <td>2022-09-15</td>\n",
       "      <td>B</td>\n",
       "      <td>banana</td>\n",
       "      <td>bad</td>\n",
       "    </tr>\n",
       "    <tr>\n",
       "      <th>2</th>\n",
       "      <td>2022-09-16</td>\n",
       "      <td>C</td>\n",
       "      <td>cantaloupe</td>\n",
       "      <td>cloudy</td>\n",
       "    </tr>\n",
       "  </tbody>\n",
       "</table>\n",
       "</div>"
      ],
      "text/plain": [
       "         date letter       fruit weather\n",
       "0  2022-09-14      A       apple    aces\n",
       "1  2022-09-15      B      banana     bad\n",
       "2  2022-09-16      C  cantaloupe  cloudy"
      ]
     },
     "execution_count": 85,
     "metadata": {},
     "output_type": "execute_result"
    }
   ],
   "source": [
    "import pandas as pd\n",
    "df = pd.DataFrame({\n",
    "  'date': ['2022-09-14', '2022-09-15', '2022-09-16'],\n",
    "  'letter': ['A', 'B', 'C'],\n",
    "  'dict' : [{ 'fruit': 'apple', 'weather': 'aces'},\n",
    "            { 'fruit': 'banana', 'weather': 'bad'},\n",
    "            { 'fruit': 'cantaloupe', 'weather': 'cloudy'}],\n",
    "})\n",
    "print(df)\n",
    "pd.concat([df.drop(['dict'], axis=1), df['dict'].apply(pd.Series)], axis=1)"
   ]
  },
  {
   "cell_type": "code",
   "execution_count": 86,
   "id": "00ceb9b1-4768-4279-bc00-aaa4f4e94849",
   "metadata": {},
   "outputs": [
    {
     "data": {
      "text/plain": [
       "Timestamp('2022-09-27 00:00:00-0700', tz='US/Pacific')"
      ]
     },
     "execution_count": 86,
     "metadata": {},
     "output_type": "execute_result"
    }
   ],
   "source": [
    "pd.Timestamp('9/27/22').tz_localize('US/Pacific')"
   ]
  },
  {
   "cell_type": "code",
   "execution_count": 87,
   "id": "4e6b70c1-dbe6-444c-8883-a5ad6494a2d4",
   "metadata": {},
   "outputs": [
    {
     "data": {
      "text/plain": [
       "Timedelta('0 days 01:00:00')"
      ]
     },
     "execution_count": 87,
     "metadata": {},
     "output_type": "execute_result"
    }
   ],
   "source": [
    "pd.to_timedelta(1,unit='h')"
   ]
  },
  {
   "cell_type": "code",
   "execution_count": 89,
   "id": "31e061f6-3c5e-43b2-bcd6-586a57a7d8a8",
   "metadata": {},
   "outputs": [
    {
     "data": {
      "text/plain": [
       "Timedelta('2 days 00:00:00')"
      ]
     },
     "execution_count": 89,
     "metadata": {},
     "output_type": "execute_result"
    }
   ],
   "source": [
    "pd.Timedelta(days=2)"
   ]
  },
  {
   "cell_type": "code",
   "execution_count": 92,
   "id": "466b0fd5-ab7b-4163-8b20-2d820d4456b5",
   "metadata": {},
   "outputs": [
    {
     "data": {
      "text/plain": [
       "Timedelta('2 days 02:15:30')"
      ]
     },
     "execution_count": 92,
     "metadata": {},
     "output_type": "execute_result"
    }
   ],
   "source": [
    "pd.Timedelta('2 days 2 hours 15 minutes 30 seconds')"
   ]
  },
  {
   "cell_type": "code",
   "execution_count": 93,
   "id": "39105cb9-4c2b-4d60-becd-8dc9c187468b",
   "metadata": {},
   "outputs": [
    {
     "data": {
      "text/html": [
       "<div>\n",
       "<style scoped>\n",
       "    .dataframe tbody tr th:only-of-type {\n",
       "        vertical-align: middle;\n",
       "    }\n",
       "\n",
       "    .dataframe tbody tr th {\n",
       "        vertical-align: top;\n",
       "    }\n",
       "\n",
       "    .dataframe thead th {\n",
       "        text-align: right;\n",
       "    }\n",
       "</style>\n",
       "<table border=\"1\" class=\"dataframe\">\n",
       "  <thead>\n",
       "    <tr style=\"text-align: right;\">\n",
       "      <th></th>\n",
       "      <th>first_name</th>\n",
       "    </tr>\n",
       "    <tr>\n",
       "      <th>last_name</th>\n",
       "      <th></th>\n",
       "    </tr>\n",
       "  </thead>\n",
       "  <tbody>\n",
       "    <tr>\n",
       "      <th>Connor</th>\n",
       "      <td>Sarh</td>\n",
       "    </tr>\n",
       "    <tr>\n",
       "      <th>connor</th>\n",
       "      <td>John</td>\n",
       "    </tr>\n",
       "    <tr>\n",
       "      <th>Reese</th>\n",
       "      <td>Kyle</td>\n",
       "    </tr>\n",
       "    <tr>\n",
       "      <th>Bonnot</th>\n",
       "      <td>Joe</td>\n",
       "    </tr>\n",
       "  </tbody>\n",
       "</table>\n",
       "</div>"
      ],
      "text/plain": [
       "          first_name\n",
       "last_name           \n",
       "Connor          Sarh\n",
       "connor          John\n",
       "Reese           Kyle\n",
       "Bonnot           Joe"
      ]
     },
     "execution_count": 93,
     "metadata": {},
     "output_type": "execute_result"
    }
   ],
   "source": [
    "df = pd.DataFrame({\n",
    "    'first_name':['Sarh','John','Kyle','Joe'],\n",
    "    'last_name':['Connor','connor','Reese','Bonnot']\n",
    "})\n",
    "df.set_index('last_name', inplace = True)\n",
    "df.loc[~df.index.duplicated(), :]"
   ]
  },
  {
   "cell_type": "code",
   "execution_count": 95,
   "id": "7b255434-fc84-4571-ad6c-83d2c135c786",
   "metadata": {},
   "outputs": [
    {
     "data": {
      "text/html": [
       "<div>\n",
       "<style scoped>\n",
       "    .dataframe tbody tr th:only-of-type {\n",
       "        vertical-align: middle;\n",
       "    }\n",
       "\n",
       "    .dataframe tbody tr th {\n",
       "        vertical-align: top;\n",
       "    }\n",
       "\n",
       "    .dataframe thead th {\n",
       "        text-align: right;\n",
       "    }\n",
       "</style>\n",
       "<table border=\"1\" class=\"dataframe\">\n",
       "  <thead>\n",
       "    <tr style=\"text-align: right;\">\n",
       "      <th></th>\n",
       "      <th>first_name</th>\n",
       "    </tr>\n",
       "  </thead>\n",
       "  <tbody>\n",
       "    <tr>\n",
       "      <th>0</th>\n",
       "      <td>Sarh</td>\n",
       "    </tr>\n",
       "    <tr>\n",
       "      <th>1</th>\n",
       "      <td>John</td>\n",
       "    </tr>\n",
       "    <tr>\n",
       "      <th>2</th>\n",
       "      <td>Kyle</td>\n",
       "    </tr>\n",
       "    <tr>\n",
       "      <th>3</th>\n",
       "      <td>Joe</td>\n",
       "    </tr>\n",
       "  </tbody>\n",
       "</table>\n",
       "</div>"
      ],
      "text/plain": [
       "  first_name\n",
       "0       Sarh\n",
       "1       John\n",
       "2       Kyle\n",
       "3        Joe"
      ]
     },
     "execution_count": 95,
     "metadata": {},
     "output_type": "execute_result"
    }
   ],
   "source": [
    "df = pd.DataFrame({\n",
    "    'first_name':['Sarh','John','Kyle','Joe'],\n",
    "    'last_name':['Connor','connor','Reese','Bonnot']\n",
    "})\n",
    "df.loc[:,df.columns!= 'last_name']"
   ]
  },
  {
   "cell_type": "code",
   "execution_count": 98,
   "id": "5844596b-2011-402e-b24d-eddaf37a10c3",
   "metadata": {},
   "outputs": [
    {
     "data": {
      "text/plain": [
       "Index(['John'], dtype='object', name='first_name')"
      ]
     },
     "execution_count": 98,
     "metadata": {},
     "output_type": "execute_result"
    }
   ],
   "source": [
    "import pandas as pd\n",
    "terminator_df = pd.DataFrame({\n",
    "  'first_name': ['Sarah', 'John', 'Kyle'],\n",
    "  'last_name': ['Connor', 'Connor', 'Reese'],\n",
    "})\n",
    "terminator_df.set_index('first_name', inplace=True)\n",
    "\n",
    "buckaroo_df = pd.DataFrame({\n",
    "  'first_name': ['John', 'John', 'Buckaroo'],\n",
    "  'last_name': ['Parker', 'Whorfin', 'Banzai'],\n",
    "})\n",
    "buckaroo_df.set_index('first_name', inplace=True)\n",
    "\n",
    "terminator_df.index.intersection(buckaroo_df.index)"
   ]
  },
  {
   "cell_type": "code",
   "execution_count": 99,
   "id": "32194f3b-4a37-44af-a608-901bf577c641",
   "metadata": {},
   "outputs": [
    {
     "data": {
      "text/html": [
       "<div>\n",
       "<style scoped>\n",
       "    .dataframe tbody tr th:only-of-type {\n",
       "        vertical-align: middle;\n",
       "    }\n",
       "\n",
       "    .dataframe tbody tr th {\n",
       "        vertical-align: top;\n",
       "    }\n",
       "\n",
       "    .dataframe thead th {\n",
       "        text-align: right;\n",
       "    }\n",
       "</style>\n",
       "<table border=\"1\" class=\"dataframe\">\n",
       "  <thead>\n",
       "    <tr style=\"text-align: right;\">\n",
       "      <th></th>\n",
       "      <th>last_name</th>\n",
       "    </tr>\n",
       "    <tr>\n",
       "      <th>first_name</th>\n",
       "      <th></th>\n",
       "    </tr>\n",
       "  </thead>\n",
       "  <tbody>\n",
       "    <tr>\n",
       "      <th>Sarah</th>\n",
       "      <td>Connor</td>\n",
       "    </tr>\n",
       "    <tr>\n",
       "      <th>Kyle</th>\n",
       "      <td>Reese</td>\n",
       "    </tr>\n",
       "  </tbody>\n",
       "</table>\n",
       "</div>"
      ],
      "text/plain": [
       "           last_name\n",
       "first_name          \n",
       "Sarah         Connor\n",
       "Kyle           Reese"
      ]
     },
     "execution_count": 99,
     "metadata": {},
     "output_type": "execute_result"
    }
   ],
   "source": [
    "import pandas as pd\n",
    "terminator_df = pd.DataFrame({\n",
    "  'first_name': ['Sarah', 'John', 'Kyle'],\n",
    "  'last_name': ['Connor', 'Connor', 'Reese'],\n",
    "})\n",
    "terminator_df.set_index('first_name', inplace=True)\n",
    "\n",
    "buckaroo_df = pd.DataFrame({\n",
    "  'first_name': ['John', 'John', 'Buckaroo'],\n",
    "  'last_name': ['Parker', 'Whorfin', 'Banzai'],\n",
    "})\n",
    "buckaroo_df.set_index('first_name', inplace=True)\n",
    "\n",
    "terminator_df[~terminator_df.index.isin(buckaroo_df.index)]"
   ]
  },
  {
   "cell_type": "code",
   "execution_count": 100,
   "id": "22c022d4-4201-42e9-a922-e992ea6d1ecf",
   "metadata": {},
   "outputs": [
    {
     "data": {
      "text/html": [
       "<div>\n",
       "<style scoped>\n",
       "    .dataframe tbody tr th:only-of-type {\n",
       "        vertical-align: middle;\n",
       "    }\n",
       "\n",
       "    .dataframe tbody tr th {\n",
       "        vertical-align: top;\n",
       "    }\n",
       "\n",
       "    .dataframe thead th {\n",
       "        text-align: right;\n",
       "    }\n",
       "</style>\n",
       "<table border=\"1\" class=\"dataframe\">\n",
       "  <thead>\n",
       "    <tr style=\"text-align: right;\">\n",
       "      <th></th>\n",
       "      <th>first_name</th>\n",
       "      <th>last_name</th>\n",
       "    </tr>\n",
       "  </thead>\n",
       "  <tbody>\n",
       "    <tr>\n",
       "      <th>2</th>\n",
       "      <td>Kyle</td>\n",
       "      <td>Reese</td>\n",
       "    </tr>\n",
       "  </tbody>\n",
       "</table>\n",
       "</div>"
      ],
      "text/plain": [
       "  first_name last_name\n",
       "2       Kyle     Reese"
      ]
     },
     "execution_count": 100,
     "metadata": {},
     "output_type": "execute_result"
    }
   ],
   "source": [
    "import pandas as pd\n",
    "df = pd.DataFrame({\n",
    "  'first_name': ['Sarah', 'John', 'Kyle'],\n",
    "  'last_name': ['Connor', 'Connor', 'Reese'],\n",
    "})\n",
    "\n",
    "df[df['last_name'].map(len) == 5]"
   ]
  },
  {
   "cell_type": "code",
   "execution_count": 101,
   "id": "06227529-3917-4e4f-a048-7607639b8267",
   "metadata": {},
   "outputs": [
    {
     "data": {
      "text/plain": [
       "last_name\n",
       "Connor    2\n",
       "Reese     1\n",
       "dtype: int64"
      ]
     },
     "execution_count": 101,
     "metadata": {},
     "output_type": "execute_result"
    }
   ],
   "source": [
    "import pandas as pd\n",
    "df = pd.DataFrame({\n",
    "  'first_name': ['Sarah', 'John', 'Kyle'],\n",
    "  'last_name': ['Connor', 'Connor', 'Reese'],\n",
    "})\n",
    "\n",
    "df.groupby(['last_name']).size().sort_values(ascending=False)"
   ]
  },
  {
   "cell_type": "code",
   "execution_count": 102,
   "id": "adca18ed-4c65-430d-a041-7dcff37daff2",
   "metadata": {},
   "outputs": [
    {
     "name": "stderr",
     "output_type": "stream",
     "text": [
      "C:\\Users\\user\\AppData\\Local\\Temp\\ipykernel_30900\\1938272921.py:10: FutureWarning: the convert_dtype parameter is deprecated and will be removed in a future version.  Do ``ser.astype(object).apply()`` instead if you want ``convert_dtype=False``.\n",
      "  temp_series = df['msg_ids'].apply(pd.Series, 1).stack()\n"
     ]
    },
    {
     "data": {
      "text/html": [
       "<div>\n",
       "<style scoped>\n",
       "    .dataframe tbody tr th:only-of-type {\n",
       "        vertical-align: middle;\n",
       "    }\n",
       "\n",
       "    .dataframe tbody tr th {\n",
       "        vertical-align: top;\n",
       "    }\n",
       "\n",
       "    .dataframe thead th {\n",
       "        text-align: right;\n",
       "    }\n",
       "</style>\n",
       "<table border=\"1\" class=\"dataframe\">\n",
       "  <thead>\n",
       "    <tr style=\"text-align: right;\">\n",
       "      <th></th>\n",
       "    </tr>\n",
       "    <tr>\n",
       "      <th>msg_id</th>\n",
       "    </tr>\n",
       "  </thead>\n",
       "  <tbody>\n",
       "    <tr>\n",
       "      <th>1.0</th>\n",
       "    </tr>\n",
       "    <tr>\n",
       "      <th>2.0</th>\n",
       "    </tr>\n",
       "    <tr>\n",
       "      <th>3.0</th>\n",
       "    </tr>\n",
       "  </tbody>\n",
       "</table>\n",
       "</div>"
      ],
      "text/plain": [
       "Empty DataFrame\n",
       "Columns: []\n",
       "Index: [1.0, 2.0, 3.0]"
      ]
     },
     "execution_count": 102,
     "metadata": {},
     "output_type": "execute_result"
    }
   ],
   "source": [
    "import pandas as pd\n",
    "df = pd.DataFrame({\n",
    "  'date': ['9/1/22', '9/2/22', '9/3/22'],\n",
    "  'action': ['Add', 'Update', 'Delete'],\n",
    "  'msg_ids': [[1, 2, 3], [], [2, 3]],\n",
    "})\n",
    "df.set_index('date', inplace=True)\n",
    "\n",
    "\n",
    "temp_series = df['msg_ids'].apply(pd.Series, 1).stack()\n",
    "temp_series.index = temp_series.index.droplevel(-1)\n",
    "temp_series.name = 'msg_id'\n",
    "new_df = temp_series.to_frame()\n",
    "new_df.set_index('msg_id', inplace=True)\n",
    "new_df.loc[~new_df.index.duplicated(), :]"
   ]
  },
  {
   "cell_type": "code",
   "execution_count": 103,
   "id": "fcd8595d-cb6c-4456-b143-3e4272dfaf10",
   "metadata": {},
   "outputs": [
    {
     "data": {
      "text/html": [
       "<div>\n",
       "<style scoped>\n",
       "    .dataframe tbody tr th:only-of-type {\n",
       "        vertical-align: middle;\n",
       "    }\n",
       "\n",
       "    .dataframe tbody tr th {\n",
       "        vertical-align: top;\n",
       "    }\n",
       "\n",
       "    .dataframe thead th {\n",
       "        text-align: right;\n",
       "    }\n",
       "</style>\n",
       "<table border=\"1\" class=\"dataframe\">\n",
       "  <thead>\n",
       "    <tr style=\"text-align: right;\">\n",
       "      <th></th>\n",
       "      <th>requests</th>\n",
       "    </tr>\n",
       "    <tr>\n",
       "      <th>time</th>\n",
       "      <th></th>\n",
       "    </tr>\n",
       "  </thead>\n",
       "  <tbody>\n",
       "    <tr>\n",
       "      <th>2022-09-01 00:00:00-07:00</th>\n",
       "      <td>3</td>\n",
       "    </tr>\n",
       "    <tr>\n",
       "      <th>2022-09-01 00:02:00-07:00</th>\n",
       "      <td>2</td>\n",
       "    </tr>\n",
       "    <tr>\n",
       "      <th>2022-09-01 00:04:00-07:00</th>\n",
       "      <td>2</td>\n",
       "    </tr>\n",
       "    <tr>\n",
       "      <th>2022-09-01 00:06:00-07:00</th>\n",
       "      <td>1</td>\n",
       "    </tr>\n",
       "  </tbody>\n",
       "</table>\n",
       "</div>"
      ],
      "text/plain": [
       "                           requests\n",
       "time                               \n",
       "2022-09-01 00:00:00-07:00         3\n",
       "2022-09-01 00:02:00-07:00         2\n",
       "2022-09-01 00:04:00-07:00         2\n",
       "2022-09-01 00:06:00-07:00         1"
      ]
     },
     "execution_count": 103,
     "metadata": {},
     "output_type": "execute_result"
    }
   ],
   "source": [
    "import pandas as pd\n",
    "df = pd.DataFrame({\n",
    "  'time': ['2022-09-01 00:00:01-07:00', '2022-09-01 00:00:02-07:00',\n",
    "           '2022-09-01 00:01:00-07:00', '2022-09-01 00:02:00-07:00',\n",
    "           '2022-09-01 00:03:00-07:00', '2022-09-01 00:04:00-07:00',\n",
    "           '2022-09-01 00:05:00-07:00', '2022-09-01 00:07:00-07:00'],\n",
    "  'requests': [1, 1, 1, 1, 1, 1, 1, 1],\n",
    "})\n",
    "df['time'] = pd.to_datetime(df.time)\n",
    "\n",
    "df.groupby(pd.Grouper(key='time', freq='2min')).sum()"
   ]
  },
  {
   "cell_type": "code",
   "execution_count": null,
   "id": "46dfe21a-af6c-458c-95aa-16c3a393f498",
   "metadata": {},
   "outputs": [],
   "source": []
  }
 ],
 "metadata": {
  "kernelspec": {
   "display_name": "Python 3 (ipykernel)",
   "language": "python",
   "name": "python3"
  },
  "language_info": {
   "codemirror_mode": {
    "name": "ipython",
    "version": 3
   },
   "file_extension": ".py",
   "mimetype": "text/x-python",
   "name": "python",
   "nbconvert_exporter": "python",
   "pygments_lexer": "ipython3",
   "version": "3.13.5"
  }
 },
 "nbformat": 4,
 "nbformat_minor": 5
}

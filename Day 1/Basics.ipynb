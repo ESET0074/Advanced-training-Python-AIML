{
 "cells": [
  {
   "cell_type": "markdown",
   "id": "6f19c85b-104e-445b-941a-9ac0300f3d6e",
   "metadata": {},
   "source": [
    "# Python Basics"
   ]
  },
  {
   "cell_type": "markdown",
   "id": "0c3513db-b118-4e03-abe8-9d92b00219ef",
   "metadata": {},
   "source": [
    "## Variables"
   ]
  },
  {
   "cell_type": "code",
   "execution_count": 1,
   "id": "dc4fa71e-86ec-4651-a72a-1b2435449ad6",
   "metadata": {},
   "outputs": [
    {
     "data": {
      "text/plain": [
       "float"
      ]
     },
     "execution_count": 1,
     "metadata": {},
     "output_type": "execute_result"
    }
   ],
   "source": [
    "x = 10.0\n",
    "type(x)"
   ]
  },
  {
   "cell_type": "code",
   "execution_count": 2,
   "id": "fcfa1210-6de1-4f71-ab8f-a3c19cdd6333",
   "metadata": {},
   "outputs": [],
   "source": [
    "y = float(10)"
   ]
  },
  {
   "cell_type": "code",
   "execution_count": 3,
   "id": "75a81aa6-a2c5-4f75-9d8a-66a15686289c",
   "metadata": {},
   "outputs": [
    {
     "data": {
      "text/plain": [
       "float"
      ]
     },
     "execution_count": 3,
     "metadata": {},
     "output_type": "execute_result"
    }
   ],
   "source": [
    "type(y)"
   ]
  },
  {
   "cell_type": "code",
   "execution_count": 4,
   "id": "fb74e417-2afc-4e22-8ad7-99f80fb27928",
   "metadata": {},
   "outputs": [
    {
     "data": {
      "text/plain": [
       "str"
      ]
     },
     "execution_count": 4,
     "metadata": {},
     "output_type": "execute_result"
    }
   ],
   "source": [
    "a = 'Hello'\n",
    "type(a)"
   ]
  },
  {
   "cell_type": "markdown",
   "id": "fc7cb187-f028-44bf-950d-4ac46c8f343f",
   "metadata": {},
   "source": [
    "## Numbers"
   ]
  },
  {
   "cell_type": "code",
   "execution_count": 5,
   "id": "0c56fd0d-490b-4eb9-b1ca-acacdf7c7365",
   "metadata": {},
   "outputs": [],
   "source": [
    "n = 10"
   ]
  },
  {
   "cell_type": "code",
   "execution_count": 6,
   "id": "21eb000a-d97c-42ab-bc31-6c53d5c22d94",
   "metadata": {},
   "outputs": [
    {
     "name": "stdout",
     "output_type": "stream",
     "text": [
      "10 <class 'int'>\n"
     ]
    }
   ],
   "source": [
    "print(n, type(n))"
   ]
  },
  {
   "cell_type": "code",
   "execution_count": 7,
   "id": "2a3b20ca-72d4-4e1c-b65b-55439e14e36f",
   "metadata": {},
   "outputs": [
    {
     "name": "stdout",
     "output_type": "stream",
     "text": [
      "11\n"
     ]
    }
   ],
   "source": [
    "print(n+1)"
   ]
  },
  {
   "cell_type": "code",
   "execution_count": 8,
   "id": "f83d8e30-a7c0-40a0-92db-517c6a4dbf4d",
   "metadata": {},
   "outputs": [
    {
     "name": "stdout",
     "output_type": "stream",
     "text": [
      "9\n"
     ]
    }
   ],
   "source": [
    "print(n-1)"
   ]
  },
  {
   "cell_type": "code",
   "execution_count": 9,
   "id": "d7558849-55cf-4b84-ae1c-86d4629acb5c",
   "metadata": {},
   "outputs": [
    {
     "name": "stdout",
     "output_type": "stream",
     "text": [
      "10.0\n"
     ]
    }
   ],
   "source": [
    "print(n/1.0)"
   ]
  },
  {
   "cell_type": "code",
   "execution_count": 10,
   "id": "d1b49888-0776-4854-9236-e5a7dbc96fc0",
   "metadata": {},
   "outputs": [
    {
     "name": "stdout",
     "output_type": "stream",
     "text": [
      "100\n"
     ]
    }
   ],
   "source": [
    "print(n**2)"
   ]
  },
  {
   "cell_type": "code",
   "execution_count": 14,
   "id": "9060a2bd-cca2-49ea-b410-c3d55854e569",
   "metadata": {},
   "outputs": [],
   "source": [
    "f = 3.1415"
   ]
  },
  {
   "cell_type": "code",
   "execution_count": 15,
   "id": "8f3c92e4-a42d-48b2-90ec-a6572279afd5",
   "metadata": {},
   "outputs": [
    {
     "name": "stdout",
     "output_type": "stream",
     "text": [
      "0.9995681818181819\n"
     ]
    }
   ],
   "source": [
    "print(f*(7/22))"
   ]
  },
  {
   "cell_type": "markdown",
   "id": "6e9f603d-650c-4f80-81dc-f40c2610de27",
   "metadata": {},
   "source": [
    "## Boolean"
   ]
  },
  {
   "cell_type": "code",
   "execution_count": 16,
   "id": "c80373b1-1663-4609-87e1-07af6d1db0b4",
   "metadata": {},
   "outputs": [],
   "source": [
    "t, f = True, False"
   ]
  },
  {
   "cell_type": "code",
   "execution_count": 20,
   "id": "aba92f85-7515-4ffa-82d6-ea1963a06373",
   "metadata": {},
   "outputs": [
    {
     "name": "stdout",
     "output_type": "stream",
     "text": [
      "True\n"
     ]
    }
   ],
   "source": [
    "print(t and not f)"
   ]
  },
  {
   "cell_type": "markdown",
   "id": "b90e96da-2c12-46a7-87cd-7bed1dffbaf2",
   "metadata": {},
   "source": [
    "# String"
   ]
  },
  {
   "cell_type": "code",
   "execution_count": 21,
   "id": "fcb44c35-452c-4081-a423-63275cd629f8",
   "metadata": {},
   "outputs": [],
   "source": [
    "hello = \"Hello\""
   ]
  },
  {
   "cell_type": "code",
   "execution_count": 22,
   "id": "7e1bc7d1-375a-495c-bb23-8bacbef10332",
   "metadata": {},
   "outputs": [
    {
     "data": {
      "text/plain": [
       "str"
      ]
     },
     "execution_count": 22,
     "metadata": {},
     "output_type": "execute_result"
    }
   ],
   "source": [
    "type(hello)"
   ]
  },
  {
   "cell_type": "code",
   "execution_count": 23,
   "id": "1ce062b7-1e48-491d-82a3-9b9e4da4f340",
   "metadata": {},
   "outputs": [],
   "source": [
    "world =\"World\""
   ]
  },
  {
   "cell_type": "code",
   "execution_count": 24,
   "id": "ad1d9ffb-37a1-47c4-889d-93db6e51e0c6",
   "metadata": {},
   "outputs": [
    {
     "data": {
      "text/plain": [
       "str"
      ]
     },
     "execution_count": 24,
     "metadata": {},
     "output_type": "execute_result"
    }
   ],
   "source": [
    "type(world)"
   ]
  },
  {
   "cell_type": "code",
   "execution_count": 28,
   "id": "8baf46d9-49b7-4553-8941-a9608636a82a",
   "metadata": {},
   "outputs": [
    {
     "name": "stdout",
     "output_type": "stream",
     "text": [
      "Hello, World\n"
     ]
    }
   ],
   "source": [
    "print(hello +\", \"+ world)"
   ]
  },
  {
   "cell_type": "code",
   "execution_count": 29,
   "id": "71974598-3509-499e-9aab-54ffed920c1a",
   "metadata": {},
   "outputs": [],
   "source": [
    "format = '{}{} {}'.format(hello,\",\",world)"
   ]
  },
  {
   "cell_type": "code",
   "execution_count": 30,
   "id": "4e1b3a0b-6023-49e2-8f1d-60f92fea4e54",
   "metadata": {},
   "outputs": [
    {
     "name": "stdout",
     "output_type": "stream",
     "text": [
      "Hello, World\n"
     ]
    }
   ],
   "source": [
    "print(format)"
   ]
  },
  {
   "cell_type": "code",
   "execution_count": 31,
   "id": "03db79b0-4a6c-4191-a5f8-f28f01973231",
   "metadata": {},
   "outputs": [],
   "source": [
    "s = 'hello'"
   ]
  },
  {
   "cell_type": "code",
   "execution_count": 32,
   "id": "9ba623c4-7885-4c6c-b3bd-a2a74c53b284",
   "metadata": {},
   "outputs": [
    {
     "name": "stdout",
     "output_type": "stream",
     "text": [
      "HELLO\n"
     ]
    }
   ],
   "source": [
    "print(s.upper())"
   ]
  },
  {
   "cell_type": "code",
   "execution_count": 33,
   "id": "d8d90a4f-6133-4b28-a47e-999b41b4eb19",
   "metadata": {},
   "outputs": [
    {
     "name": "stdout",
     "output_type": "stream",
     "text": [
      "hello\n"
     ]
    }
   ],
   "source": [
    "print(s.lower())"
   ]
  },
  {
   "cell_type": "code",
   "execution_count": 35,
   "id": "1183d74c-c106-40f4-a2df-919e848c0eae",
   "metadata": {},
   "outputs": [
    {
     "name": "stdout",
     "output_type": "stream",
     "text": [
      "Hello\n"
     ]
    }
   ],
   "source": [
    "print(s.capitalize())"
   ]
  },
  {
   "cell_type": "code",
   "execution_count": 37,
   "id": "a020aa53-5929-4c6a-af1d-c9a400d0a186",
   "metadata": {},
   "outputs": [
    {
     "name": "stdout",
     "output_type": "stream",
     "text": [
      "  hello\n"
     ]
    }
   ],
   "source": [
    "print(s.rjust(7))"
   ]
  },
  {
   "cell_type": "code",
   "execution_count": 38,
   "id": "e0b1fb21-fd2b-4160-b57f-441971507f23",
   "metadata": {},
   "outputs": [
    {
     "name": "stdout",
     "output_type": "stream",
     "text": [
      " hello \n"
     ]
    }
   ],
   "source": [
    "print(s.center(7))"
   ]
  },
  {
   "cell_type": "code",
   "execution_count": 40,
   "id": "fb30c427-e9e6-4475-87ff-31838f84a47f",
   "metadata": {},
   "outputs": [
    {
     "name": "stdout",
     "output_type": "stream",
     "text": [
      "herro\n"
     ]
    }
   ],
   "source": [
    "print(s.replace('l','r'))"
   ]
  },
  {
   "cell_type": "code",
   "execution_count": 42,
   "id": "1eaff816-ee49-4173-b9e0-ca8fbd68e78b",
   "metadata": {},
   "outputs": [
    {
     "name": "stdout",
     "output_type": "stream",
     "text": [
      "world\n"
     ]
    }
   ],
   "source": [
    "print('     world    '.strip())"
   ]
  },
  {
   "cell_type": "markdown",
   "id": "073509d0-7628-4cec-8ebe-1a161568db5c",
   "metadata": {},
   "source": [
    "# Containers"
   ]
  },
  {
   "cell_type": "markdown",
   "id": "de29b581-c50d-4818-afe9-1d424ad23067",
   "metadata": {},
   "source": [
    "## List"
   ]
  },
  {
   "cell_type": "code",
   "execution_count": 43,
   "id": "4beeffc9-6f21-4ddf-9a33-439197198d8e",
   "metadata": {},
   "outputs": [],
   "source": [
    "x = [3, 1, 2]"
   ]
  },
  {
   "cell_type": "code",
   "execution_count": 44,
   "id": "12f296dd-32d6-4e09-8b5c-b4189000d283",
   "metadata": {},
   "outputs": [
    {
     "data": {
      "text/plain": [
       "list"
      ]
     },
     "execution_count": 44,
     "metadata": {},
     "output_type": "execute_result"
    }
   ],
   "source": [
    "type(x)"
   ]
  },
  {
   "cell_type": "code",
   "execution_count": 46,
   "id": "d69ba9d8-02db-4af6-9de5-db74c8ec14ec",
   "metadata": {},
   "outputs": [
    {
     "data": {
      "text/plain": [
       "[3, 1]"
      ]
     },
     "execution_count": 46,
     "metadata": {},
     "output_type": "execute_result"
    }
   ],
   "source": [
    "x[-3:-1]"
   ]
  },
  {
   "cell_type": "code",
   "execution_count": 47,
   "id": "07df94dd-28e1-4c52-a721-5fa737783a43",
   "metadata": {},
   "outputs": [],
   "source": [
    "x[1]='one'"
   ]
  },
  {
   "cell_type": "code",
   "execution_count": 48,
   "id": "d89dfbc7-e998-416f-be61-7a059f64d1c6",
   "metadata": {},
   "outputs": [
    {
     "name": "stdout",
     "output_type": "stream",
     "text": [
      "[3, 'one', 2]\n"
     ]
    }
   ],
   "source": [
    "print(x)"
   ]
  },
  {
   "cell_type": "code",
   "execution_count": 50,
   "id": "36c32bcd-d52f-48b0-8f69-162e8eed805e",
   "metadata": {},
   "outputs": [],
   "source": [
    "x.append('three')"
   ]
  },
  {
   "cell_type": "code",
   "execution_count": 51,
   "id": "163da9d6-0912-4d73-9074-35e9a5fa5787",
   "metadata": {},
   "outputs": [
    {
     "data": {
      "text/plain": [
       "'three'"
      ]
     },
     "execution_count": 51,
     "metadata": {},
     "output_type": "execute_result"
    }
   ],
   "source": [
    "x.pop()"
   ]
  },
  {
   "cell_type": "code",
   "execution_count": 54,
   "id": "4cea1e05-1249-4eb9-be6d-435bf1f6253e",
   "metadata": {},
   "outputs": [],
   "source": [
    "nums = list(range(7))"
   ]
  },
  {
   "cell_type": "code",
   "execution_count": 55,
   "id": "0520cdf3-d66f-4a75-be7e-ef48c84570d0",
   "metadata": {},
   "outputs": [
    {
     "data": {
      "text/plain": [
       "[2, 3]"
      ]
     },
     "execution_count": 55,
     "metadata": {},
     "output_type": "execute_result"
    }
   ],
   "source": [
    "nums[2:4]"
   ]
  },
  {
   "cell_type": "code",
   "execution_count": 60,
   "id": "2730d325-6078-454f-9178-13ef58fce1b3",
   "metadata": {},
   "outputs": [],
   "source": [
    "nums[2:4]=[5,5]"
   ]
  },
  {
   "cell_type": "code",
   "execution_count": 61,
   "id": "f85720c8-90e0-48b7-9337-5206f0797750",
   "metadata": {},
   "outputs": [
    {
     "name": "stdout",
     "output_type": "stream",
     "text": [
      "[0, 1, 5, 5, 4, 6]\n"
     ]
    }
   ],
   "source": [
    "print(nums)"
   ]
  },
  {
   "cell_type": "code",
   "execution_count": 62,
   "id": "e69d4dbf-2a95-40de-ab18-400254957b87",
   "metadata": {},
   "outputs": [],
   "source": [
    "nums.remove(5)"
   ]
  },
  {
   "cell_type": "code",
   "execution_count": 63,
   "id": "a74ff758-c007-44a4-883c-71e48eeed368",
   "metadata": {},
   "outputs": [
    {
     "name": "stdout",
     "output_type": "stream",
     "text": [
      "[0, 1, 5, 4, 6]\n"
     ]
    }
   ],
   "source": [
    "print(nums)"
   ]
  },
  {
   "cell_type": "code",
   "execution_count": 64,
   "id": "a468bf92-1f6f-42c2-8918-93ea523985df",
   "metadata": {},
   "outputs": [],
   "source": [
    "animals= ['Donkey', 'Monkey', 'Elephant', 'Tiger','Lion']"
   ]
  },
  {
   "cell_type": "code",
   "execution_count": 67,
   "id": "360386fa-8a20-434d-8892-0ffe5321e873",
   "metadata": {},
   "outputs": [
    {
     "name": "stdout",
     "output_type": "stream",
     "text": [
      "1: Donkey\n",
      "2: Monkey\n",
      "3: Elephant\n",
      "4: Tiger\n",
      "5: Lion\n"
     ]
    }
   ],
   "source": [
    "for idx, items in enumerate(animals):\n",
    "    print('{}: {}'.format(idx +1, items))"
   ]
  },
  {
   "cell_type": "markdown",
   "id": "3c1d080c-503e-4cac-b2ec-7123e42873f5",
   "metadata": {},
   "source": [
    "## List Comprehension"
   ]
  },
  {
   "cell_type": "code",
   "execution_count": 68,
   "id": "6048dda9-7ccb-4c5c-a6ed-fd4c638e8434",
   "metadata": {},
   "outputs": [],
   "source": [
    "list1 = list(range(5))"
   ]
  },
  {
   "cell_type": "code",
   "execution_count": 69,
   "id": "24b1d3ef-4e27-4384-8b3b-c2b8c4d98b21",
   "metadata": {},
   "outputs": [
    {
     "data": {
      "text/plain": [
       "[0, 1, 2, 3, 4]"
      ]
     },
     "execution_count": 69,
     "metadata": {},
     "output_type": "execute_result"
    }
   ],
   "source": [
    "list1"
   ]
  },
  {
   "cell_type": "code",
   "execution_count": 71,
   "id": "baf21fda-ecbc-4c72-8f7d-2f45ff2b5ef5",
   "metadata": {},
   "outputs": [],
   "source": [
    "list2 = []\n",
    "for x in list1:\n",
    "    list2.append(x**2)"
   ]
  },
  {
   "cell_type": "code",
   "execution_count": 72,
   "id": "ff270e6c-6345-42ea-b2d9-df0115a8f062",
   "metadata": {},
   "outputs": [
    {
     "data": {
      "text/plain": [
       "[0, 1, 4, 9, 16]"
      ]
     },
     "execution_count": 72,
     "metadata": {},
     "output_type": "execute_result"
    }
   ],
   "source": [
    "list2"
   ]
  },
  {
   "cell_type": "code",
   "execution_count": 80,
   "id": "a4c18790-44c1-46ba-b581-180b3118c528",
   "metadata": {},
   "outputs": [
    {
     "name": "stdout",
     "output_type": "stream",
     "text": [
      "[0, 4, 16, 36, 64, 100]\n"
     ]
    }
   ],
   "source": [
    "list3=list(range(11))\n",
    "even = [x**2 for x in list3 if x%2==0]\n",
    "print(even)"
   ]
  },
  {
   "cell_type": "markdown",
   "id": "7dcb1e7c-caab-4a24-8986-2a9acc42b6e0",
   "metadata": {},
   "source": [
    "# Dictionaries"
   ]
  },
  {
   "cell_type": "code",
   "execution_count": 81,
   "id": "dfb48e7c-8162-4f43-b644-062af40904c2",
   "metadata": {},
   "outputs": [],
   "source": [
    "d = {'cat':'carnivore','donkey':'Herbivore'}"
   ]
  },
  {
   "cell_type": "code",
   "execution_count": 82,
   "id": "f73dd252-84a0-4251-8721-1c33a3162519",
   "metadata": {},
   "outputs": [
    {
     "data": {
      "text/plain": [
       "'carnivore'"
      ]
     },
     "execution_count": 82,
     "metadata": {},
     "output_type": "execute_result"
    }
   ],
   "source": [
    "d['cat']"
   ]
  },
  {
   "cell_type": "code",
   "execution_count": 83,
   "id": "b4122e8d-d2dd-4944-a8f3-854390fd2492",
   "metadata": {},
   "outputs": [
    {
     "name": "stdout",
     "output_type": "stream",
     "text": [
      "True\n"
     ]
    }
   ],
   "source": [
    "print('cat' in d)"
   ]
  },
  {
   "cell_type": "code",
   "execution_count": 85,
   "id": "eaba6e09-db4c-42d8-8227-86998e9eca43",
   "metadata": {},
   "outputs": [],
   "source": [
    "d['fish']='wet'"
   ]
  },
  {
   "cell_type": "code",
   "execution_count": 86,
   "id": "04ba8144-3c71-480e-9bd9-1f49f0ebcb12",
   "metadata": {},
   "outputs": [
    {
     "name": "stdout",
     "output_type": "stream",
     "text": [
      "N/A\n",
      "carnivore\n"
     ]
    }
   ],
   "source": [
    "print(d.get('monkey','N/A'))\n",
    "print(d.get('cat','N/A'))"
   ]
  },
  {
   "cell_type": "code",
   "execution_count": 87,
   "id": "76691604-f405-40ab-a696-ae6500da590b",
   "metadata": {},
   "outputs": [],
   "source": [
    "dict={'person':2,'cats': 4,'spiders':8}"
   ]
  },
  {
   "cell_type": "code",
   "execution_count": 94,
   "id": "5cfb3c0c-1d86-4a7d-a852-f6d4da78ceb9",
   "metadata": {},
   "outputs": [
    {
     "name": "stdout",
     "output_type": "stream",
     "text": [
      "A person has 2 legs\n",
      "A cats has 4 legs\n",
      "A spiders has 8 legs\n"
     ]
    }
   ],
   "source": [
    "for key in dict:\n",
    "    print('A {} has {} legs'.format(key,dict[key]))"
   ]
  },
  {
   "cell_type": "code",
   "execution_count": 95,
   "id": "05afdeaa-1f48-4417-9ab1-fa07af2dec2d",
   "metadata": {},
   "outputs": [],
   "source": [
    "numlist = list(range(5))"
   ]
  },
  {
   "cell_type": "code",
   "execution_count": 98,
   "id": "491ee0e7-acd2-48c5-9ec1-e5179f22b5d7",
   "metadata": {},
   "outputs": [
    {
     "name": "stdout",
     "output_type": "stream",
     "text": [
      "{0: 0, 2: 4, 4: 16}\n"
     ]
    }
   ],
   "source": [
    "d={}\n",
    "for items in numlist:\n",
    "    if(items%2==0):\n",
    "        d[items]=items**2\n",
    "print(d)"
   ]
  },
  {
   "cell_type": "markdown",
   "id": "7076fdfa-e18e-44d4-83d9-0ec4333c2127",
   "metadata": {},
   "source": [
    "# Sets"
   ]
  },
  {
   "cell_type": "code",
   "execution_count": 99,
   "id": "2af93923-4e60-48f0-8389-c639f49e137a",
   "metadata": {},
   "outputs": [
    {
     "data": {
      "text/plain": [
       "{'cats', 'dogs'}"
      ]
     },
     "execution_count": 99,
     "metadata": {},
     "output_type": "execute_result"
    }
   ],
   "source": [
    "animals = {'cats','dogs'}\n",
    "animals"
   ]
  },
  {
   "cell_type": "code",
   "execution_count": 100,
   "id": "c93f89f7-9843-4f02-b07d-2a49ecd6b168",
   "metadata": {},
   "outputs": [
    {
     "data": {
      "text/plain": [
       "set"
      ]
     },
     "execution_count": 100,
     "metadata": {},
     "output_type": "execute_result"
    }
   ],
   "source": [
    "type(animals)"
   ]
  },
  {
   "cell_type": "code",
   "execution_count": 102,
   "id": "f0f90304-e763-4133-bef4-ecedca6479f3",
   "metadata": {},
   "outputs": [
    {
     "data": {
      "text/plain": [
       "True"
      ]
     },
     "execution_count": 102,
     "metadata": {},
     "output_type": "execute_result"
    }
   ],
   "source": [
    "'cats' in animals"
   ]
  },
  {
   "cell_type": "code",
   "execution_count": 103,
   "id": "89e97e71-cb91-4a72-8908-b7d0430df231",
   "metadata": {},
   "outputs": [],
   "source": [
    "animals.add('fish')"
   ]
  },
  {
   "cell_type": "code",
   "execution_count": 104,
   "id": "4b7efe47-b464-4595-bfb7-e47ed6c0f9c0",
   "metadata": {},
   "outputs": [
    {
     "data": {
      "text/plain": [
       "{'cats', 'dogs', 'fish'}"
      ]
     },
     "execution_count": 104,
     "metadata": {},
     "output_type": "execute_result"
    }
   ],
   "source": [
    "animals"
   ]
  },
  {
   "cell_type": "code",
   "execution_count": 105,
   "id": "7d271e6d-c8ab-4095-b1a4-9361120d3cb7",
   "metadata": {},
   "outputs": [],
   "source": [
    "animals.add('fish')"
   ]
  },
  {
   "cell_type": "code",
   "execution_count": 106,
   "id": "4b897cd4-985a-4447-acdb-c134dce08ab9",
   "metadata": {},
   "outputs": [
    {
     "data": {
      "text/plain": [
       "{'cats', 'dogs', 'fish'}"
      ]
     },
     "execution_count": 106,
     "metadata": {},
     "output_type": "execute_result"
    }
   ],
   "source": [
    "animals"
   ]
  },
  {
   "cell_type": "code",
   "execution_count": 107,
   "id": "a270fa38-b618-479d-8806-486e5dd1799c",
   "metadata": {},
   "outputs": [],
   "source": [
    "animals.add(2)"
   ]
  },
  {
   "cell_type": "code",
   "execution_count": 108,
   "id": "97f62da3-71cd-4a2a-baad-2abee4c564c1",
   "metadata": {},
   "outputs": [
    {
     "data": {
      "text/plain": [
       "{2, 'cats', 'dogs', 'fish'}"
      ]
     },
     "execution_count": 108,
     "metadata": {},
     "output_type": "execute_result"
    }
   ],
   "source": [
    "animals"
   ]
  },
  {
   "cell_type": "code",
   "execution_count": 111,
   "id": "6860cf78-fa82-489f-8830-b896e080f854",
   "metadata": {},
   "outputs": [
    {
     "data": {
      "text/plain": [
       "4"
      ]
     },
     "execution_count": 111,
     "metadata": {},
     "output_type": "execute_result"
    }
   ],
   "source": [
    "len(animals)"
   ]
  },
  {
   "cell_type": "code",
   "execution_count": 112,
   "id": "b5692915-14ef-41d7-b331-4511e56c0f48",
   "metadata": {},
   "outputs": [],
   "source": [
    "animals.remove(2)"
   ]
  },
  {
   "cell_type": "code",
   "execution_count": 113,
   "id": "8d2c0d3a-367a-4323-8fd7-838cf389c6bc",
   "metadata": {},
   "outputs": [
    {
     "data": {
      "text/plain": [
       "3"
      ]
     },
     "execution_count": 113,
     "metadata": {},
     "output_type": "execute_result"
    }
   ],
   "source": [
    "len(animals)"
   ]
  },
  {
   "cell_type": "code",
   "execution_count": 114,
   "id": "bd0aacbd-4f77-40d3-be25-c8b8de4da550",
   "metadata": {},
   "outputs": [],
   "source": [
    "s = set(range(5))"
   ]
  },
  {
   "cell_type": "code",
   "execution_count": 116,
   "id": "8cd3fede-0fbf-42c8-ba4a-8c2aad330a51",
   "metadata": {},
   "outputs": [
    {
     "name": "stdout",
     "output_type": "stream",
     "text": [
      "1 : 0\n",
      "2 : 1\n",
      "3 : 2\n",
      "4 : 3\n",
      "5 : 4\n"
     ]
    }
   ],
   "source": [
    "for idx,items in enumerate(s):\n",
    "    print('{} : {}'.format(idx+1, items))"
   ]
  },
  {
   "cell_type": "markdown",
   "id": "ab16673c-c2fd-4c1a-9328-aa8d16632282",
   "metadata": {},
   "source": [
    "# Tuples"
   ]
  },
  {
   "cell_type": "code",
   "execution_count": 127,
   "id": "7e3dd622-7cb8-4ad1-9992-ff5b1d5aada4",
   "metadata": {},
   "outputs": [
    {
     "data": {
      "text/plain": [
       "(1, 2, [3, 4], 5, 5)"
      ]
     },
     "execution_count": 127,
     "metadata": {},
     "output_type": "execute_result"
    }
   ],
   "source": [
    "t=(1,2,[3,4],5,5)\n",
    "t"
   ]
  },
  {
   "cell_type": "code",
   "execution_count": 128,
   "id": "cd905f76-a0fe-4c5c-8a21-83c26076a5d8",
   "metadata": {},
   "outputs": [],
   "source": [
    "\n",
    "t[2][0]=1"
   ]
  },
  {
   "cell_type": "code",
   "execution_count": 129,
   "id": "b08b4c4d-d980-4379-bf25-5db0e8bd5d30",
   "metadata": {},
   "outputs": [
    {
     "data": {
      "text/plain": [
       "(1, 2, [1, 4], 5, 5)"
      ]
     },
     "execution_count": 129,
     "metadata": {},
     "output_type": "execute_result"
    }
   ],
   "source": [
    "t"
   ]
  },
  {
   "cell_type": "code",
   "execution_count": 131,
   "id": "d4cbeb10-0f12-4f9e-83cd-615fecef9212",
   "metadata": {},
   "outputs": [
    {
     "data": {
      "text/plain": [
       "{(0, 1): 0,\n",
       " (1, 2): 1,\n",
       " (2, 3): 2,\n",
       " (3, 4): 3,\n",
       " (4, 5): 4,\n",
       " (5, 6): 5,\n",
       " (6, 7): 6,\n",
       " (7, 8): 7,\n",
       " (8, 9): 8,\n",
       " (9, 10): 9,\n",
       " (10, 11): 10,\n",
       " (11, 12): 11,\n",
       " (12, 13): 12,\n",
       " (13, 14): 13,\n",
       " (14, 15): 14,\n",
       " (15, 16): 15,\n",
       " (16, 17): 16,\n",
       " (17, 18): 17,\n",
       " (18, 19): 18,\n",
       " (19, 20): 19}"
      ]
     },
     "execution_count": 131,
     "metadata": {},
     "output_type": "execute_result"
    }
   ],
   "source": [
    "d = {(x,x+1): x for x in range(20)}\n",
    "d"
   ]
  },
  {
   "cell_type": "code",
   "execution_count": 132,
   "id": "65cceb19-5ef3-4640-b774-6b0ffadcc261",
   "metadata": {},
   "outputs": [
    {
     "data": {
      "text/plain": [
       "4"
      ]
     },
     "execution_count": 132,
     "metadata": {},
     "output_type": "execute_result"
    }
   ],
   "source": [
    "d[(4,5)]"
   ]
  },
  {
   "cell_type": "markdown",
   "id": "b71ef901-5506-4710-94c9-b91fea4b5735",
   "metadata": {},
   "source": [
    "# Functions"
   ]
  },
  {
   "cell_type": "code",
   "execution_count": 135,
   "id": "3d4771c5-b18a-4af4-8343-c84f689ac826",
   "metadata": {},
   "outputs": [],
   "source": [
    "def sign(x):\n",
    "    if x>=0:\n",
    "        print('+')\n",
    "    else: print('-')"
   ]
  },
  {
   "cell_type": "code",
   "execution_count": 136,
   "id": "a21e09e6-e1c2-4236-b256-2e03bc5e461a",
   "metadata": {},
   "outputs": [
    {
     "name": "stdout",
     "output_type": "stream",
     "text": [
      "-\n"
     ]
    }
   ],
   "source": [
    "sign(-9)"
   ]
  },
  {
   "cell_type": "code",
   "execution_count": 138,
   "id": "850b76ea-e657-4a39-a1f1-23c6fb4b2edb",
   "metadata": {},
   "outputs": [
    {
     "name": "stdout",
     "output_type": "stream",
     "text": [
      "-\n",
      "-\n",
      "+\n",
      "+\n",
      "+\n"
     ]
    }
   ],
   "source": [
    "for x in range(-2,3):\n",
    "    sign(x)"
   ]
  },
  {
   "cell_type": "code",
   "execution_count": 143,
   "id": "ee5d613c-35c2-4fa9-aff5-48f0f2178754",
   "metadata": {},
   "outputs": [],
   "source": [
    "def hello(name, loud = False):\n",
    "    if loud:\n",
    "        print(f\"Hello {name.upper()}\")\n",
    "    else: print(f\"Hello {name.lower()}\")"
   ]
  },
  {
   "cell_type": "code",
   "execution_count": 144,
   "id": "60f86204-4b74-4e6b-b942-c63677f886f0",
   "metadata": {},
   "outputs": [
    {
     "name": "stdout",
     "output_type": "stream",
     "text": [
      "Hello ANIKET\n"
     ]
    }
   ],
   "source": [
    "hello('Aniket',True)"
   ]
  },
  {
   "cell_type": "code",
   "execution_count": 145,
   "id": "4347d663-1cfe-4153-b711-a4edeb31f5c8",
   "metadata": {},
   "outputs": [
    {
     "name": "stdout",
     "output_type": "stream",
     "text": [
      "Hello aniket\n"
     ]
    }
   ],
   "source": [
    "hello('Aniket')"
   ]
  },
  {
   "cell_type": "code",
   "execution_count": 154,
   "id": "c906bdbb-e4fd-4c68-83ea-903a104391f2",
   "metadata": {},
   "outputs": [],
   "source": [
    "def cases(name):\n",
    "    if(name.isupper()):\n",
    "        print(f\"{name} is in upper case\")\n",
    "    elif(name.islower()):\n",
    "        print(f\"{name} is in lower case\")\n",
    "    else:\n",
    "        print(f\"{name} is capitalized\")"
   ]
  },
  {
   "cell_type": "code",
   "execution_count": 153,
   "id": "2ce355ef-1441-4dbb-9729-2624d02dcfab",
   "metadata": {},
   "outputs": [
    {
     "name": "stdout",
     "output_type": "stream",
     "text": [
      "ANIKET is in upper case\n"
     ]
    }
   ],
   "source": [
    "cases('ANIKET')"
   ]
  },
  {
   "cell_type": "code",
   "execution_count": 155,
   "id": "9a08434a-92c5-4791-8187-ba5bd3d08529",
   "metadata": {},
   "outputs": [
    {
     "name": "stdout",
     "output_type": "stream",
     "text": [
      "After local assignment: test spam\n",
      "After nonlocal assignment: nonlocal spam\n",
      "After global assignment: nonlocal spam\n",
      "In global scope: global spam\n"
     ]
    }
   ],
   "source": [
    "def scope_test():\n",
    "    def do_local():\n",
    "        spam = \"local spam\"\n",
    "\n",
    "    def do_nonlocal():\n",
    "        nonlocal spam\n",
    "        spam = \"nonlocal spam\"\n",
    "\n",
    "    def do_global():\n",
    "        global spam\n",
    "        spam = \"global spam\"\n",
    "\n",
    "    spam = \"test spam\"\n",
    "    do_local()\n",
    "    print(\"After local assignment:\", spam)\n",
    "    do_nonlocal()\n",
    "    print(\"After nonlocal assignment:\", spam)\n",
    "    do_global()\n",
    "    print(\"After global assignment:\", spam)\n",
    "\n",
    "scope_test()\n",
    "print(\"In global scope:\", spam)"
   ]
  },
  {
   "cell_type": "code",
   "execution_count": 160,
   "id": "59531567-0d30-4695-9c3e-a2e15e5ade47",
   "metadata": {},
   "outputs": [],
   "source": [
    "class Greeter:\n",
    "    def __init__(self,name):\n",
    "        self.name = name\n",
    "    def greet(self, age, loud = False):\n",
    "        if loud:\n",
    "            print(f\"HELLO {self.name.upper()}, your age is {age}\")\n",
    "        else: print(f\"hello {self.name.lower()}, your age is {age}\")\n",
    "    "
   ]
  },
  {
   "cell_type": "code",
   "execution_count": 161,
   "id": "550cd526-8c04-46dd-a2a4-891066a97732",
   "metadata": {},
   "outputs": [
    {
     "name": "stdout",
     "output_type": "stream",
     "text": [
      "HELLO ANIKET, your age is 5\n"
     ]
    }
   ],
   "source": [
    "G = Greeter('Aniket')\n",
    "G.greet(5,True)"
   ]
  },
  {
   "cell_type": "code",
   "execution_count": 165,
   "id": "466097e0-56d1-4179-aa64-f3280cccebc9",
   "metadata": {},
   "outputs": [],
   "source": [
    "import numpy"
   ]
  },
  {
   "cell_type": "code",
   "execution_count": 167,
   "id": "b39feeda-50be-4872-822a-6517891e1950",
   "metadata": {},
   "outputs": [],
   "source": [
    "import matplotlib"
   ]
  },
  {
   "cell_type": "code",
   "execution_count": null,
   "id": "5c867fb5-5ccb-4daf-b9e1-53e6e5239ae5",
   "metadata": {},
   "outputs": [],
   "source": []
  }
 ],
 "metadata": {
  "kernelspec": {
   "display_name": "Python 3 (ipykernel)",
   "language": "python",
   "name": "python3"
  },
  "language_info": {
   "codemirror_mode": {
    "name": "ipython",
    "version": 3
   },
   "file_extension": ".py",
   "mimetype": "text/x-python",
   "name": "python",
   "nbconvert_exporter": "python",
   "pygments_lexer": "ipython3",
   "version": "3.13.5"
  }
 },
 "nbformat": 4,
 "nbformat_minor": 5
}

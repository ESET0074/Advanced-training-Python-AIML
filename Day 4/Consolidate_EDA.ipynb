{
 "cells": [
  {
   "cell_type": "markdown",
   "id": "5e446b36",
   "metadata": {},
   "source": [
    "# Consolidate_EDA( including All steps)"
   ]
  },
  {
   "cell_type": "markdown",
   "id": "179e5be5",
   "metadata": {},
   "source": [
    "### Perform a complete EDA workflow on a given dataset:  Data cleaning, Univariate & bivariate analysis, Outlier detection, Missing value treatment, Feature correlation analysis.And also Preprocessing using ColumnTransformer to handle missing values, encode categorical data, and scale numerical features."
   ]
  },
  {
   "cell_type": "code",
   "execution_count": null,
   "id": "349d3ff7",
   "metadata": {},
   "outputs": [],
   "source": [
    "# sample_data= df.read_csv(\"adult.csv\")\n"
   ]
  }
 ],
 "metadata": {
  "kernelspec": {
   "display_name": "Python 3",
   "language": "python",
   "name": "python3"
  },
  "language_info": {
   "name": "python",
   "version": "3.13.5"
  }
 },
 "nbformat": 4,
 "nbformat_minor": 5
}

{
 "cells": [
  {
   "cell_type": "markdown",
   "id": "65402fb7-9310-4154-81c0-4bc9feee31e0",
   "metadata": {},
   "source": [
    "# Tasks\n",
    "### 1. Write a Python program to find the frequency of each word in a given paragraph."
   ]
  },
  {
   "cell_type": "code",
   "execution_count": 25,
   "id": "34fce716-13e7-4270-8797-0c28d49b30e0",
   "metadata": {},
   "outputs": [
    {
     "name": "stdout",
     "output_type": "stream",
     "text": [
      "['Hi', 'hi', 'hi', 'is', 'my', 'the', 'us', 'hi', 'me', 'and', 'if', 'you', 'me', 'the']\n"
     ]
    }
   ],
   "source": [
    "para=\"Hi hi hi is my the us hi me and if you me the\"\n",
    "para=para.replace(\",\",\" \")\n",
    "para=para.replace(\".\",\" \")\n",
    "a = para.split()\n",
    "print(a)"
   ]
  },
  {
   "cell_type": "code",
   "execution_count": 26,
   "id": "0dfa020b-619f-43f1-bd32-a876096b9306",
   "metadata": {},
   "outputs": [],
   "source": [
    "freq={}"
   ]
  },
  {
   "cell_type": "code",
   "execution_count": 27,
   "id": "6d7ed962-054f-4811-9861-35634c313705",
   "metadata": {},
   "outputs": [
    {
     "name": "stdout",
     "output_type": "stream",
     "text": [
      "{'Hi': 4, 'hi': 4, 'is': 1, 'my': 1, 'the': 2, 'us': 1, 'me': 2, 'and': 1, 'if': 1, 'you': 1}\n"
     ]
    }
   ],
   "source": [
    "for words in u:\n",
    "    count = 0\n",
    "    for units in s:\n",
    "        if (words.lower()==units.lower()):\n",
    "            count += 1\n",
    "    freq[words]=count\n",
    "        \n",
    "print(freq)        "
   ]
  },
  {
   "cell_type": "code",
   "execution_count": 29,
   "id": "9ea2ebe4-4888-4aa9-ab09-ef5f1e5f128d",
   "metadata": {},
   "outputs": [
    {
     "name": "stdout",
     "output_type": "stream",
     "text": [
      "The frequency of word Hi is 4\n",
      "The frequency of word Hi is 4\n",
      "The frequency of word Is is 1\n",
      "The frequency of word My is 1\n",
      "The frequency of word The is 2\n",
      "The frequency of word Us is 1\n",
      "The frequency of word Me is 2\n",
      "The frequency of word And is 1\n",
      "The frequency of word If is 1\n",
      "The frequency of word You is 1\n"
     ]
    }
   ],
   "source": [
    "for key in freq:\n",
    "    print(f\"The frequency of word {key.capitalize()} is {freq[key]}\")"
   ]
  },
  {
   "cell_type": "markdown",
   "id": "1815fd37-fe86-4dbe-a73c-14182d099f4b",
   "metadata": {},
   "source": [
    "### 2. Create a list of tuples containing student names and marks. Sort the list in descending order of marks using lambda."
   ]
  },
  {
   "cell_type": "code",
   "execution_count": 31,
   "id": "4a295c5b-2db5-409e-a540-d0d24ed52b79",
   "metadata": {},
   "outputs": [],
   "source": [
    "import pandas as pd"
   ]
  },
  {
   "cell_type": "code",
   "execution_count": 30,
   "id": "d9b880eb-914b-4aaf-be72-5f0ba9a4428b",
   "metadata": {},
   "outputs": [],
   "source": [
    "\n",
    "marks=[('Aniket',50),('Nirmal',30),('Bhushan',40)]\n"
   ]
  },
  {
   "cell_type": "code",
   "execution_count": 52,
   "id": "00a5e4ad-ca24-4307-8e24-1b78ef3eb89a",
   "metadata": {},
   "outputs": [],
   "source": [
    "sorted_marks=sorted(marks, key=lambda x:x[1])"
   ]
  },
  {
   "cell_type": "code",
   "execution_count": 55,
   "id": "e4a43bf1-4641-4802-9d2e-3941b5025292",
   "metadata": {},
   "outputs": [
    {
     "name": "stdout",
     "output_type": "stream",
     "text": [
      "[('Nirmal', 30), ('Bhushan', 40), ('Aniket', 50)]\n"
     ]
    }
   ],
   "source": [
    "print(sorted_marks)"
   ]
  },
  {
   "cell_type": "markdown",
   "id": "22f70a90-28c9-4e89-834f-2b753d20a8d1",
   "metadata": {},
   "source": [
    "## 3. Flatten a nested list using recursion"
   ]
  },
  {
   "cell_type": "code",
   "execution_count": 70,
   "id": "1572529c-f20b-4f9a-9081-e4e4d0ef8cc8",
   "metadata": {},
   "outputs": [
    {
     "name": "stdout",
     "output_type": "stream",
     "text": [
      "True\n"
     ]
    }
   ],
   "source": [
    "n = [3]\n",
    "print(str(type(n))==\"<class 'list'>\")\n",
    "    "
   ]
  },
  {
   "cell_type": "code",
   "execution_count": 107,
   "id": "0e3955c8-3183-4caf-94dc-fc75c455371c",
   "metadata": {},
   "outputs": [],
   "source": [
    "def flat(lis):\n",
    "    flattened=[]\n",
    "    def flatten(x):\n",
    "        for items in x:\n",
    "            if str(type(items)) == \"<class 'list'>\":\n",
    "                flatten(items)\n",
    "            else:\n",
    "                flattened.append(items)\n",
    "    flatten(lis)\n",
    "    return flattened\n",
    "\n"
   ]
  },
  {
   "cell_type": "code",
   "execution_count": 108,
   "id": "0113402a-44b2-4d1e-a691-b2de95d1e88f",
   "metadata": {},
   "outputs": [
    {
     "name": "stdout",
     "output_type": "stream",
     "text": [
      "[1, 2, 3, 4, 4, 5, 8, 4, 5, 6]\n"
     ]
    }
   ],
   "source": [
    "l=[1,2,3,4,[4,5,8],4,5,6]\n",
    "print(flat(l))"
   ]
  },
  {
   "cell_type": "markdown",
   "id": "374f7303-072b-4ff2-a7e3-59e77206bcbd",
   "metadata": {},
   "source": [
    "## 4. Normalize by rows and columns of numpy matrix"
   ]
  },
  {
   "cell_type": "code",
   "execution_count": 74,
   "id": "c7532291-4a5e-449f-b27e-bcf1d8bc8768",
   "metadata": {},
   "outputs": [],
   "source": [
    "import numpy as np"
   ]
  },
  {
   "cell_type": "code",
   "execution_count": 76,
   "id": "88c4de1b-338d-4fe9-bb80-3a8a55252185",
   "metadata": {},
   "outputs": [],
   "source": [
    "a = np.array([[1,2,3],[7,6,9],[13,2,0]])"
   ]
  },
  {
   "cell_type": "code",
   "execution_count": 82,
   "id": "b948e57b-cdce-4057-92ff-4c3ec19fd369",
   "metadata": {},
   "outputs": [
    {
     "name": "stdout",
     "output_type": "stream",
     "text": [
      "[[0 0 1]\n",
      " [0 0 1]\n",
      " [1 0 0]]\n"
     ]
    }
   ],
   "source": [
    "b=np.array([[1,2,3],[7,6,9],[13,2,0]])\n",
    "for i in range(3):\n",
    "    for j in range(3):\n",
    "        b[i][j]=(a[i][j]-a[i].min())/(a[i].max()-a[i].min())\n",
    "print(b)"
   ]
  },
  {
   "cell_type": "code",
   "execution_count": 85,
   "id": "532cde3a-8566-4590-a7ad-89038c2d6b86",
   "metadata": {},
   "outputs": [],
   "source": [
    "c=a.T"
   ]
  },
  {
   "cell_type": "code",
   "execution_count": 87,
   "id": "fb0118b1-1bad-4393-aa7c-386d4bc6a3bb",
   "metadata": {},
   "outputs": [
    {
     "name": "stdout",
     "output_type": "stream",
     "text": [
      "[[0 0 0]\n",
      " [0 1 1]\n",
      " [1 0 0]]\n"
     ]
    }
   ],
   "source": [
    "d=np.array([[1,2,3],[7,6,9],[13,2,0]])\n",
    "for i in range(3):\n",
    "    for j in range(3):\n",
    "        d[i][j]=(c[i][j]-c[i].min())/(c[i].max()-c[i].min())\n",
    "print(d.T)"
   ]
  },
  {
   "cell_type": "markdown",
   "id": "af40394c-a2fa-414a-8834-e2ea38322bb7",
   "metadata": {},
   "source": [
    "### 5. Using Pandas, read a CSV file and display only those rows where a numeric column value is greater than the column's mean"
   ]
  },
  {
   "cell_type": "code",
   "execution_count": 110,
   "id": "21415e0c-9be3-4ca4-8c20-b63052a989db",
   "metadata": {},
   "outputs": [],
   "source": [
    "import pandas as pd"
   ]
  },
  {
   "cell_type": "code",
   "execution_count": 93,
   "id": "48ad209b-1730-42fd-a74d-be4491945395",
   "metadata": {},
   "outputs": [],
   "source": [
    "A = pd.DataFrame({'B':[1,2,3,4,5],'C':[34,56,32,67,98]})\n",
    "A.to_csv(\"A.csv\")"
   ]
  },
  {
   "cell_type": "code",
   "execution_count": 94,
   "id": "aeb879b0-e96e-4bf1-87ef-0ce0d76e06ee",
   "metadata": {},
   "outputs": [],
   "source": [
    "B=pd.read_csv(\"A.csv\")"
   ]
  },
  {
   "cell_type": "code",
   "execution_count": 95,
   "id": "72130e5f-03f3-422f-b69e-912ccded9ced",
   "metadata": {},
   "outputs": [
    {
     "data": {
      "text/html": [
       "<div>\n",
       "<style scoped>\n",
       "    .dataframe tbody tr th:only-of-type {\n",
       "        vertical-align: middle;\n",
       "    }\n",
       "\n",
       "    .dataframe tbody tr th {\n",
       "        vertical-align: top;\n",
       "    }\n",
       "\n",
       "    .dataframe thead th {\n",
       "        text-align: right;\n",
       "    }\n",
       "</style>\n",
       "<table border=\"1\" class=\"dataframe\">\n",
       "  <thead>\n",
       "    <tr style=\"text-align: right;\">\n",
       "      <th></th>\n",
       "      <th>Unnamed: 0</th>\n",
       "      <th>B</th>\n",
       "      <th>C</th>\n",
       "    </tr>\n",
       "  </thead>\n",
       "  <tbody>\n",
       "    <tr>\n",
       "      <th>0</th>\n",
       "      <td>0</td>\n",
       "      <td>1</td>\n",
       "      <td>34</td>\n",
       "    </tr>\n",
       "    <tr>\n",
       "      <th>1</th>\n",
       "      <td>1</td>\n",
       "      <td>2</td>\n",
       "      <td>56</td>\n",
       "    </tr>\n",
       "    <tr>\n",
       "      <th>2</th>\n",
       "      <td>2</td>\n",
       "      <td>3</td>\n",
       "      <td>32</td>\n",
       "    </tr>\n",
       "    <tr>\n",
       "      <th>3</th>\n",
       "      <td>3</td>\n",
       "      <td>4</td>\n",
       "      <td>67</td>\n",
       "    </tr>\n",
       "    <tr>\n",
       "      <th>4</th>\n",
       "      <td>4</td>\n",
       "      <td>5</td>\n",
       "      <td>98</td>\n",
       "    </tr>\n",
       "  </tbody>\n",
       "</table>\n",
       "</div>"
      ],
      "text/plain": [
       "   Unnamed: 0  B   C\n",
       "0           0  1  34\n",
       "1           1  2  56\n",
       "2           2  3  32\n",
       "3           3  4  67\n",
       "4           4  5  98"
      ]
     },
     "execution_count": 95,
     "metadata": {},
     "output_type": "execute_result"
    }
   ],
   "source": [
    "B.head()"
   ]
  },
  {
   "cell_type": "code",
   "execution_count": 97,
   "id": "01fc275b-48b0-4837-8ae0-7b395f53ebf2",
   "metadata": {},
   "outputs": [],
   "source": [
    "B_mean=B.B.mean()\n",
    "C_mean=B.C.mean()"
   ]
  },
  {
   "cell_type": "code",
   "execution_count": 103,
   "id": "dd74b7dd-6266-48bf-9a1b-520c03666050",
   "metadata": {},
   "outputs": [
    {
     "name": "stdout",
     "output_type": "stream",
     "text": [
      "B:[3, 4, 5], \n",
      " C:[67, 98]\n"
     ]
    }
   ],
   "source": [
    "B_S=[]\n",
    "C_S=[]\n",
    "for i in B.B:\n",
    "    if i>=B_mean:\n",
    "        B_S.append(i)\n",
    "for i in B.C:\n",
    "    if i>=C_mean:\n",
    "        C_S.append(i)\n",
    "print(f\"B:{B_S}, \\n C:{C_S}\")"
   ]
  },
  {
   "cell_type": "markdown",
   "id": "dcaed6d4-bacc-4a98-ad49-b58c44a71752",
   "metadata": {},
   "source": [
    "### 6.Plot a line chart using matplotlib showing monthly sales and overlay a rolling average using a secondary axis."
   ]
  },
  {
   "cell_type": "code",
   "execution_count": 117,
   "id": "713d43a3-1831-4e12-b5e8-dc5097a6859a",
   "metadata": {},
   "outputs": [],
   "source": [
    "df=pd.DataFrame({'month':pd.date_range('2024-01-01', periods = 12, freq = 'ME'),\n",
    "                'sales': [1,2,3,4,5,6,7,8,9,10,11,12]})"
   ]
  },
  {
   "cell_type": "code",
   "execution_count": 118,
   "id": "0495fd9f-3c92-4e8d-92ea-c8392d744995",
   "metadata": {},
   "outputs": [],
   "source": [
    "df['ra']=df.sales.rolling(3).mean()\n",
    "    "
   ]
  },
  {
   "cell_type": "code",
   "execution_count": 119,
   "id": "1ee1b5ce-38a9-4baf-b5ee-679dc66904ea",
   "metadata": {},
   "outputs": [
    {
     "data": {
      "text/plain": [
       "0      NaN\n",
       "1      NaN\n",
       "2      2.0\n",
       "3      3.0\n",
       "4      4.0\n",
       "5      5.0\n",
       "6      6.0\n",
       "7      7.0\n",
       "8      8.0\n",
       "9      9.0\n",
       "10    10.0\n",
       "11    11.0\n",
       "Name: ra, dtype: float64"
      ]
     },
     "execution_count": 119,
     "metadata": {},
     "output_type": "execute_result"
    }
   ],
   "source": [
    "df['ra']"
   ]
  },
  {
   "cell_type": "code",
   "execution_count": 120,
   "id": "a63b3bc3-6b5c-4233-901e-8c77c74f72d4",
   "metadata": {},
   "outputs": [],
   "source": [
    "import matplotlib.pyplot as plt"
   ]
  },
  {
   "cell_type": "code",
   "execution_count": 123,
   "id": "776b83f3-9a6b-41e6-b878-a09dc520b04d",
   "metadata": {},
   "outputs": [
    {
     "data": {
      "image/png": "[encoded data removed]",
      "text/plain": [
       "<Figure size 640x480 with 1 Axes>"
      ]
     },
     "metadata": {},
     "output_type": "display_data"
    }
   ],
   "source": [
    "plt.plot(df.month,df.sales,label = 'sales')\n",
    "plt.plot(df.month,df.ra, label = 'rolling average')\n",
    "plt.xlabel('Month')\n",
    "plt.ylabel('Sales')\n",
    "plt.title('sales data')\n",
    "plt.legend()\n",
    "plt.show()"
   ]
  },
  {
   "cell_type": "markdown",
   "id": "a58182dd-577b-4194-a479-28df690b17d9",
   "metadata": {},
   "source": [
    "### 7.Using Seaborn's tips dataset, create a scatter plot with regression line showing the relationship between total_bill and tip"
   ]
  },
  {
   "cell_type": "code",
   "execution_count": 124,
   "id": "8182696a-aa2f-4520-a532-ced1d3eb3ee6",
   "metadata": {},
   "outputs": [],
   "source": [
    "import seaborn as sns"
   ]
  },
  {
   "cell_type": "code",
   "execution_count": 126,
   "id": "685e29c9-3d92-4376-9e4d-f2bf7a886896",
   "metadata": {},
   "outputs": [],
   "source": [
    "new_df=sns.load_dataset('tips')"
   ]
  },
  {
   "cell_type": "code",
   "execution_count": 127,
   "id": "44f783fc-f58d-481d-ae4f-ec95b0168e86",
   "metadata": {},
   "outputs": [
    {
     "data": {
      "text/html": [
       "<div>\n",
       "<style scoped>\n",
       "    .dataframe tbody tr th:only-of-type {\n",
       "        vertical-align: middle;\n",
       "    }\n",
       "\n",
       "    .dataframe tbody tr th {\n",
       "        vertical-align: top;\n",
       "    }\n",
       "\n",
       "    .dataframe thead th {\n",
       "        text-align: right;\n",
       "    }\n",
       "</style>\n",
       "<table border=\"1\" class=\"dataframe\">\n",
       "  <thead>\n",
       "    <tr style=\"text-align: right;\">\n",
       "      <th></th>\n",
       "      <th>total_bill</th>\n",
       "      <th>tip</th>\n",
       "      <th>sex</th>\n",
       "      <th>smoker</th>\n",
       "      <th>day</th>\n",
       "      <th>time</th>\n",
       "      <th>size</th>\n",
       "    </tr>\n",
       "  </thead>\n",
       "  <tbody>\n",
       "    <tr>\n",
       "      <th>0</th>\n",
       "      <td>16.99</td>\n",
       "      <td>1.01</td>\n",
       "      <td>Female</td>\n",
       "      <td>No</td>\n",
       "      <td>Sun</td>\n",
       "      <td>Dinner</td>\n",
       "      <td>2</td>\n",
       "    </tr>\n",
       "    <tr>\n",
       "      <th>1</th>\n",
       "      <td>10.34</td>\n",
       "      <td>1.66</td>\n",
       "      <td>Male</td>\n",
       "      <td>No</td>\n",
       "      <td>Sun</td>\n",
       "      <td>Dinner</td>\n",
       "      <td>3</td>\n",
       "    </tr>\n",
       "    <tr>\n",
       "      <th>2</th>\n",
       "      <td>21.01</td>\n",
       "      <td>3.50</td>\n",
       "      <td>Male</td>\n",
       "      <td>No</td>\n",
       "      <td>Sun</td>\n",
       "      <td>Dinner</td>\n",
       "      <td>3</td>\n",
       "    </tr>\n",
       "    <tr>\n",
       "      <th>3</th>\n",
       "      <td>23.68</td>\n",
       "      <td>3.31</td>\n",
       "      <td>Male</td>\n",
       "      <td>No</td>\n",
       "      <td>Sun</td>\n",
       "      <td>Dinner</td>\n",
       "      <td>2</td>\n",
       "    </tr>\n",
       "    <tr>\n",
       "      <th>4</th>\n",
       "      <td>24.59</td>\n",
       "      <td>3.61</td>\n",
       "      <td>Female</td>\n",
       "      <td>No</td>\n",
       "      <td>Sun</td>\n",
       "      <td>Dinner</td>\n",
       "      <td>4</td>\n",
       "    </tr>\n",
       "  </tbody>\n",
       "</table>\n",
       "</div>"
      ],
      "text/plain": [
       "   total_bill   tip     sex smoker  day    time  size\n",
       "0       16.99  1.01  Female     No  Sun  Dinner     2\n",
       "1       10.34  1.66    Male     No  Sun  Dinner     3\n",
       "2       21.01  3.50    Male     No  Sun  Dinner     3\n",
       "3       23.68  3.31    Male     No  Sun  Dinner     2\n",
       "4       24.59  3.61  Female     No  Sun  Dinner     4"
      ]
     },
     "execution_count": 127,
     "metadata": {},
     "output_type": "execute_result"
    }
   ],
   "source": [
    "new_df.head()"
   ]
  },
  {
   "cell_type": "code",
   "execution_count": 128,
   "id": "7b234f37-6912-4a82-a3e4-6f54b11d5a71",
   "metadata": {},
   "outputs": [
    {
     "name": "stdout",
     "output_type": "stream",
     "text": [
      "<class 'pandas.core.frame.DataFrame'>\n",
      "RangeIndex: 244 entries, 0 to 243\n",
      "Data columns (total 7 columns):\n",
      " #   Column      Non-Null Count  Dtype   \n",
      "---  ------      --------------  -----   \n",
      " 0   total_bill  244 non-null    float64 \n",
      " 1   tip         244 non-null    float64 \n",
      " 2   sex         244 non-null    category\n",
      " 3   smoker      244 non-null    category\n",
      " 4   day         244 non-null    category\n",
      " 5   time        244 non-null    category\n",
      " 6   size        244 non-null    int64   \n",
      "dtypes: category(4), float64(2), int64(1)\n",
      "memory usage: 7.4 KB\n"
     ]
    }
   ],
   "source": [
    "new_df.info()"
   ]
  },
  {
   "cell_type": "code",
   "execution_count": 133,
   "id": "c70b0842-dc89-4dce-bc81-0c7485ac5a46",
   "metadata": {},
   "outputs": [
    {
     "data": {
      "text/plain": [
       "Text(0.5, 1.0, 'Tips vs. Total Bill')"
      ]
     },
     "execution_count": 133,
     "metadata": {},
     "output_type": "execute_result"
    },
    {
     "data": {
      "image/png": "[encoded data removed]",
      "text/plain": [
       "<Figure size 700x500 with 1 Axes>"
      ]
     },
     "metadata": {},
     "output_type": "display_data"
    }
   ],
   "source": [
    "plt.figure(figsize=(7,5))\n",
    "sns.regplot(x='total_bill',y='tip',data=new_df)\n",
    "plt.ylabel('Tips')\n",
    "plt.xlabel('Total bill')\n",
    "plt.title('Tips vs. Total Bill')"
   ]
  },
  {
   "cell_type": "code",
   "execution_count": null,
   "id": "823508e8-99b2-4a86-80b9-6c15d02bebe9",
   "metadata": {},
   "outputs": [],
   "source": []
  }
 ],
 "metadata": {
  "kernelspec": {
   "display_name": "Python 3 (ipykernel)",
   "language": "python",
   "name": "python3"
  },
  "language_info": {
   "codemirror_mode": {
    "name": "ipython",
    "version": 3
   },
   "file_extension": ".py",
   "mimetype": "text/x-python",
   "name": "python",
   "nbconvert_exporter": "python",
   "pygments_lexer": "ipython3",
   "version": "3.13.5"
  }
 },
 "nbformat": 4,
 "nbformat_minor": 5
}
